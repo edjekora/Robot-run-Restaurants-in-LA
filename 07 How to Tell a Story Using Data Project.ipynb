{
 "cells": [
  {
   "cell_type": "markdown",
   "id": "68cf01d2",
   "metadata": {},
   "source": [
    "### How to Tell a Story Using Data Project:\n",
    "# Market research on robot-run restaurants in LA\n",
    "\n",
    "## Project description\n",
    "You’ve decided to open a small robot-run cafe in Los Angeles. The project is promising but expensive, so you and your partners decide to try to attract investors. They’re interested in the current market conditions—will you be able to maintain your success when the novelty of robot waiters wears off?<br>\n",
    "You’re an analytics guru, so your partners have asked you to prepare some market research. You have open-source data on restaurants in LA."
   ]
  },
  {
   "cell_type": "markdown",
   "id": "18f8bd1e",
   "metadata": {},
   "source": [
    "## Table of Contents\n",
    "\n",
    "* [Download and preprocess the data](#Step-1)\n",
    "* Data Analysis:\n",
    "    1. [Proportions of various types of establishments](#Investigate-the-proportions-of-the-various-types-of-establishments.-Plot-a-graph.)\n",
    "    2. [Proportions of chain and none-chain establishments](#Investigate-the-proportions-of-chain-and-nonchain-establishments.-Plot-a-graph.)\n",
    "    3. [Chain to none-chain splitted by establishment type](#Which-type-of-establishment-is-typically-a-chain?)\n",
    "    4. [Chain characteristics](#What-characterizes-chains:-many-establishments-with-a-small-number-of-seats-or-a-few-establishments-with-a-lot-of-seats?)\n",
    "    5. [Average number of seats for each establishment type](#Determine-the-average-number-of-seats-for-each-type-of-restaurant.-On-average,-which-type-of-restaurant-has-the-greatest-number-of-seats?-Plot-graphs.)\n",
    "    6. [Streets analysis](#Put-the-data-on-street-names-from-the-address-column-in-a-separate-column.)\n",
    "    7. [Summary](#Market-research-on-robot-run-restaurants-in-LA:-summary)"
   ]
  },
  {
   "cell_type": "code",
   "execution_count": 1,
   "id": "659e156a",
   "metadata": {},
   "outputs": [],
   "source": [
    "## LIBRARIES CELL\n",
    "\n",
    "import pandas as pd\n",
    "import string\n",
    "import matplotlib.pyplot as plt\n",
    "import seaborn as sns\n",
    "from numpy import median\n",
    "import re"
   ]
  },
  {
   "cell_type": "markdown",
   "id": "da7fd647",
   "metadata": {},
   "source": [
    "# Step 1\n",
    "## Download and preprocess the data"
   ]
  },
  {
   "cell_type": "code",
   "execution_count": 2,
   "id": "58c05578",
   "metadata": {},
   "outputs": [
    {
     "name": "stdout",
     "output_type": "stream",
     "text": [
      "<class 'pandas.core.frame.DataFrame'>\n",
      "RangeIndex: 500 entries, 0 to 499\n",
      "Data columns (total 6 columns):\n",
      " #   Column       Non-Null Count  Dtype \n",
      "---  ------       --------------  ----- \n",
      " 0   id           500 non-null    int64 \n",
      " 1   object_name  500 non-null    object\n",
      " 2   address      500 non-null    object\n",
      " 3   chain        500 non-null    bool  \n",
      " 4   object_type  500 non-null    object\n",
      " 5   number       500 non-null    int64 \n",
      "dtypes: bool(1), int64(2), object(3)\n",
      "memory usage: 113.8 KB\n"
     ]
    }
   ],
   "source": [
    "# load samples to check column types\n",
    "\n",
    "try: # local file\n",
    "    data_demo = pd.read_csv('datasets/rest_data_us.csv', nrows = 500)\n",
    "except: # hub file\n",
    "    data_demo = pd.read_csv('/datasets/rest_data_us.csv', nrows = 500)\n",
    "\n",
    "# check samples's sizes and data types\n",
    "data_demo.info(memory_usage = 'deep')"
   ]
  },
  {
   "cell_type": "code",
   "execution_count": 3,
   "id": "e8b49887",
   "metadata": {},
   "outputs": [
    {
     "data": {
      "text/html": [
       "<div>\n",
       "<style scoped>\n",
       "    .dataframe tbody tr th:only-of-type {\n",
       "        vertical-align: middle;\n",
       "    }\n",
       "\n",
       "    .dataframe tbody tr th {\n",
       "        vertical-align: top;\n",
       "    }\n",
       "\n",
       "    .dataframe thead th {\n",
       "        text-align: right;\n",
       "    }\n",
       "</style>\n",
       "<table border=\"1\" class=\"dataframe\">\n",
       "  <thead>\n",
       "    <tr style=\"text-align: right;\">\n",
       "      <th></th>\n",
       "      <th>id</th>\n",
       "      <th>object_name</th>\n",
       "      <th>address</th>\n",
       "      <th>chain</th>\n",
       "      <th>object_type</th>\n",
       "      <th>number</th>\n",
       "    </tr>\n",
       "  </thead>\n",
       "  <tbody>\n",
       "    <tr>\n",
       "      <th>0</th>\n",
       "      <td>11786</td>\n",
       "      <td>HABITAT COFFEE SHOP</td>\n",
       "      <td>3708 N EAGLE ROCK BLVD</td>\n",
       "      <td>False</td>\n",
       "      <td>Cafe</td>\n",
       "      <td>26</td>\n",
       "    </tr>\n",
       "    <tr>\n",
       "      <th>1</th>\n",
       "      <td>11787</td>\n",
       "      <td>REILLY'S</td>\n",
       "      <td>100 WORLD WAY # 120</td>\n",
       "      <td>False</td>\n",
       "      <td>Restaurant</td>\n",
       "      <td>9</td>\n",
       "    </tr>\n",
       "    <tr>\n",
       "      <th>2</th>\n",
       "      <td>11788</td>\n",
       "      <td>STREET CHURROS</td>\n",
       "      <td>6801 HOLLYWOOD BLVD # 253</td>\n",
       "      <td>False</td>\n",
       "      <td>Fast Food</td>\n",
       "      <td>20</td>\n",
       "    </tr>\n",
       "    <tr>\n",
       "      <th>3</th>\n",
       "      <td>11789</td>\n",
       "      <td>TRINITI ECHO PARK</td>\n",
       "      <td>1814 W SUNSET BLVD</td>\n",
       "      <td>False</td>\n",
       "      <td>Restaurant</td>\n",
       "      <td>22</td>\n",
       "    </tr>\n",
       "    <tr>\n",
       "      <th>4</th>\n",
       "      <td>11790</td>\n",
       "      <td>POLLEN</td>\n",
       "      <td>2100 ECHO PARK AVE</td>\n",
       "      <td>False</td>\n",
       "      <td>Restaurant</td>\n",
       "      <td>20</td>\n",
       "    </tr>\n",
       "  </tbody>\n",
       "</table>\n",
       "</div>"
      ],
      "text/plain": [
       "      id          object_name                    address  chain object_type  \\\n",
       "0  11786  HABITAT COFFEE SHOP     3708 N EAGLE ROCK BLVD  False        Cafe   \n",
       "1  11787             REILLY'S        100 WORLD WAY # 120  False  Restaurant   \n",
       "2  11788       STREET CHURROS  6801 HOLLYWOOD BLVD # 253  False   Fast Food   \n",
       "3  11789    TRINITI ECHO PARK         1814 W SUNSET BLVD  False  Restaurant   \n",
       "4  11790               POLLEN         2100 ECHO PARK AVE  False  Restaurant   \n",
       "\n",
       "   number  \n",
       "0      26  \n",
       "1       9  \n",
       "2      20  \n",
       "3      22  \n",
       "4      20  "
      ]
     },
     "execution_count": 3,
     "metadata": {},
     "output_type": "execute_result"
    }
   ],
   "source": [
    "data_demo.head()"
   ]
  },
  {
   "cell_type": "code",
   "execution_count": 4,
   "id": "e486b7cb",
   "metadata": {},
   "outputs": [
    {
     "data": {
      "text/plain": [
       "array(['Cafe', 'Restaurant', 'Fast Food', 'Bakery', 'Bar', 'Pizza'],\n",
       "      dtype=object)"
      ]
     },
     "execution_count": 4,
     "metadata": {},
     "output_type": "execute_result"
    }
   ],
   "source": [
    "data_demo.object_type.unique()"
   ]
  },
  {
   "cell_type": "code",
   "execution_count": 5,
   "id": "bcb0acea",
   "metadata": {},
   "outputs": [],
   "source": [
    "# load full data:\n",
    "\n",
    "try: # local file\n",
    "    data_raw = pd.read_csv('datasets/rest_data_us.csv', dtype = {'object_type':'category'})\n",
    "except: # hub file\n",
    "    data_raw = pd.read_csv('/datasets/rest_data_us.csv', dtype = {'object_type':'category'})"
   ]
  },
  {
   "cell_type": "code",
   "execution_count": 6,
   "id": "a705219b",
   "metadata": {},
   "outputs": [
    {
     "name": "stdout",
     "output_type": "stream",
     "text": [
      "<class 'pandas.core.frame.DataFrame'>\n",
      "RangeIndex: 9651 entries, 0 to 9650\n",
      "Data columns (total 6 columns):\n",
      " #   Column       Non-Null Count  Dtype   \n",
      "---  ------       --------------  -----   \n",
      " 0   id           9651 non-null   int64   \n",
      " 1   object_name  9651 non-null   object  \n",
      " 2   address      9651 non-null   object  \n",
      " 3   chain        9648 non-null   object  \n",
      " 4   object_type  9651 non-null   category\n",
      " 5   number       9651 non-null   int64   \n",
      "dtypes: category(1), int64(2), object(3)\n",
      "memory usage: 386.8+ KB\n"
     ]
    }
   ],
   "source": [
    "data_raw.info()"
   ]
  },
  {
   "cell_type": "code",
   "execution_count": 7,
   "id": "aff5e4ac",
   "metadata": {},
   "outputs": [
    {
     "data": {
      "text/html": [
       "<div>\n",
       "<style scoped>\n",
       "    .dataframe tbody tr th:only-of-type {\n",
       "        vertical-align: middle;\n",
       "    }\n",
       "\n",
       "    .dataframe tbody tr th {\n",
       "        vertical-align: top;\n",
       "    }\n",
       "\n",
       "    .dataframe thead th {\n",
       "        text-align: right;\n",
       "    }\n",
       "</style>\n",
       "<table border=\"1\" class=\"dataframe\">\n",
       "  <thead>\n",
       "    <tr style=\"text-align: right;\">\n",
       "      <th></th>\n",
       "      <th>object_name</th>\n",
       "      <th>address</th>\n",
       "      <th>chain</th>\n",
       "      <th>object_type</th>\n",
       "    </tr>\n",
       "  </thead>\n",
       "  <tbody>\n",
       "    <tr>\n",
       "      <th>count</th>\n",
       "      <td>9651</td>\n",
       "      <td>9651</td>\n",
       "      <td>9648</td>\n",
       "      <td>9651</td>\n",
       "    </tr>\n",
       "    <tr>\n",
       "      <th>unique</th>\n",
       "      <td>8672</td>\n",
       "      <td>8517</td>\n",
       "      <td>2</td>\n",
       "      <td>6</td>\n",
       "    </tr>\n",
       "    <tr>\n",
       "      <th>top</th>\n",
       "      <td>THE COFFEE BEAN &amp; TEA LEAF</td>\n",
       "      <td>3607 TROUSDALE PKWY</td>\n",
       "      <td>False</td>\n",
       "      <td>Restaurant</td>\n",
       "    </tr>\n",
       "    <tr>\n",
       "      <th>freq</th>\n",
       "      <td>47</td>\n",
       "      <td>11</td>\n",
       "      <td>5972</td>\n",
       "      <td>7255</td>\n",
       "    </tr>\n",
       "  </tbody>\n",
       "</table>\n",
       "</div>"
      ],
      "text/plain": [
       "                       object_name              address  chain object_type\n",
       "count                         9651                 9651   9648        9651\n",
       "unique                        8672                 8517      2           6\n",
       "top     THE COFFEE BEAN & TEA LEAF  3607 TROUSDALE PKWY  False  Restaurant\n",
       "freq                            47                   11   5972        7255"
      ]
     },
     "execution_count": 7,
     "metadata": {},
     "output_type": "execute_result"
    }
   ],
   "source": [
    "data_raw.describe(include = ['object', 'category'])"
   ]
  },
  {
   "cell_type": "code",
   "execution_count": 8,
   "id": "0c7f0978",
   "metadata": {},
   "outputs": [
    {
     "data": {
      "text/html": [
       "<div>\n",
       "<style scoped>\n",
       "    .dataframe tbody tr th:only-of-type {\n",
       "        vertical-align: middle;\n",
       "    }\n",
       "\n",
       "    .dataframe tbody tr th {\n",
       "        vertical-align: top;\n",
       "    }\n",
       "\n",
       "    .dataframe thead th {\n",
       "        text-align: right;\n",
       "    }\n",
       "</style>\n",
       "<table border=\"1\" class=\"dataframe\">\n",
       "  <thead>\n",
       "    <tr style=\"text-align: right;\">\n",
       "      <th></th>\n",
       "      <th>id</th>\n",
       "      <th>number</th>\n",
       "    </tr>\n",
       "  </thead>\n",
       "  <tbody>\n",
       "    <tr>\n",
       "      <th>count</th>\n",
       "      <td>9651.000000</td>\n",
       "      <td>9651.000000</td>\n",
       "    </tr>\n",
       "    <tr>\n",
       "      <th>mean</th>\n",
       "      <td>16611.000000</td>\n",
       "      <td>43.695161</td>\n",
       "    </tr>\n",
       "    <tr>\n",
       "      <th>std</th>\n",
       "      <td>2786.148058</td>\n",
       "      <td>47.622874</td>\n",
       "    </tr>\n",
       "    <tr>\n",
       "      <th>min</th>\n",
       "      <td>11786.000000</td>\n",
       "      <td>1.000000</td>\n",
       "    </tr>\n",
       "    <tr>\n",
       "      <th>25%</th>\n",
       "      <td>14198.500000</td>\n",
       "      <td>14.000000</td>\n",
       "    </tr>\n",
       "    <tr>\n",
       "      <th>50%</th>\n",
       "      <td>16611.000000</td>\n",
       "      <td>27.000000</td>\n",
       "    </tr>\n",
       "    <tr>\n",
       "      <th>75%</th>\n",
       "      <td>19023.500000</td>\n",
       "      <td>46.000000</td>\n",
       "    </tr>\n",
       "    <tr>\n",
       "      <th>max</th>\n",
       "      <td>21436.000000</td>\n",
       "      <td>229.000000</td>\n",
       "    </tr>\n",
       "  </tbody>\n",
       "</table>\n",
       "</div>"
      ],
      "text/plain": [
       "                 id       number\n",
       "count   9651.000000  9651.000000\n",
       "mean   16611.000000    43.695161\n",
       "std     2786.148058    47.622874\n",
       "min    11786.000000     1.000000\n",
       "25%    14198.500000    14.000000\n",
       "50%    16611.000000    27.000000\n",
       "75%    19023.500000    46.000000\n",
       "max    21436.000000   229.000000"
      ]
     },
     "execution_count": 8,
     "metadata": {},
     "output_type": "execute_result"
    }
   ],
   "source": [
    "data_raw.describe()"
   ]
  },
  {
   "cell_type": "code",
   "execution_count": 9,
   "id": "533d854c",
   "metadata": {},
   "outputs": [],
   "source": [
    "# rename \"number\" column, so it will be obvious what is it about:\n",
    "data_raw = data_raw.rename(columns = {'number':'seats'})"
   ]
  },
  {
   "cell_type": "code",
   "execution_count": 10,
   "id": "5f51a762",
   "metadata": {},
   "outputs": [
    {
     "data": {
      "text/html": [
       "<div>\n",
       "<style scoped>\n",
       "    .dataframe tbody tr th:only-of-type {\n",
       "        vertical-align: middle;\n",
       "    }\n",
       "\n",
       "    .dataframe tbody tr th {\n",
       "        vertical-align: top;\n",
       "    }\n",
       "\n",
       "    .dataframe thead th {\n",
       "        text-align: right;\n",
       "    }\n",
       "</style>\n",
       "<table border=\"1\" class=\"dataframe\">\n",
       "  <thead>\n",
       "    <tr style=\"text-align: right;\">\n",
       "      <th></th>\n",
       "      <th>id</th>\n",
       "      <th>object_name</th>\n",
       "      <th>address</th>\n",
       "      <th>chain</th>\n",
       "      <th>object_type</th>\n",
       "      <th>seats</th>\n",
       "    </tr>\n",
       "  </thead>\n",
       "  <tbody>\n",
       "    <tr>\n",
       "      <th>0</th>\n",
       "      <td>11786</td>\n",
       "      <td>Habitat Coffee Shop</td>\n",
       "      <td>3708 N Eagle Rock Blvd</td>\n",
       "      <td>False</td>\n",
       "      <td>Cafe</td>\n",
       "      <td>26</td>\n",
       "    </tr>\n",
       "    <tr>\n",
       "      <th>1</th>\n",
       "      <td>11787</td>\n",
       "      <td>Reilly's</td>\n",
       "      <td>100 World Way # 120</td>\n",
       "      <td>False</td>\n",
       "      <td>Restaurant</td>\n",
       "      <td>9</td>\n",
       "    </tr>\n",
       "    <tr>\n",
       "      <th>2</th>\n",
       "      <td>11788</td>\n",
       "      <td>Street Churros</td>\n",
       "      <td>6801 Hollywood Blvd # 253</td>\n",
       "      <td>False</td>\n",
       "      <td>Fast Food</td>\n",
       "      <td>20</td>\n",
       "    </tr>\n",
       "    <tr>\n",
       "      <th>3</th>\n",
       "      <td>11789</td>\n",
       "      <td>Triniti Echo Park</td>\n",
       "      <td>1814 W Sunset Blvd</td>\n",
       "      <td>False</td>\n",
       "      <td>Restaurant</td>\n",
       "      <td>22</td>\n",
       "    </tr>\n",
       "    <tr>\n",
       "      <th>4</th>\n",
       "      <td>11790</td>\n",
       "      <td>Pollen</td>\n",
       "      <td>2100 Echo Park Ave</td>\n",
       "      <td>False</td>\n",
       "      <td>Restaurant</td>\n",
       "      <td>20</td>\n",
       "    </tr>\n",
       "  </tbody>\n",
       "</table>\n",
       "</div>"
      ],
      "text/plain": [
       "      id          object_name                    address  chain object_type  \\\n",
       "0  11786  Habitat Coffee Shop     3708 N Eagle Rock Blvd  False        Cafe   \n",
       "1  11787             Reilly's        100 World Way # 120  False  Restaurant   \n",
       "2  11788       Street Churros  6801 Hollywood Blvd # 253  False   Fast Food   \n",
       "3  11789    Triniti Echo Park         1814 W Sunset Blvd  False  Restaurant   \n",
       "4  11790               Pollen         2100 Echo Park Ave  False  Restaurant   \n",
       "\n",
       "   seats  \n",
       "0     26  \n",
       "1      9  \n",
       "2     20  \n",
       "3     22  \n",
       "4     20  "
      ]
     },
     "execution_count": 10,
     "metadata": {},
     "output_type": "execute_result"
    }
   ],
   "source": [
    "# make str columns more readable\n",
    "data_raw['object_name'] = data_raw['object_name'].apply(string.capwords)\n",
    "data_raw['address'] = data_raw['address'].apply(string.capwords)\n",
    "\n",
    "data_raw.head()"
   ]
  },
  {
   "cell_type": "code",
   "execution_count": 11,
   "id": "dfae8a32",
   "metadata": {},
   "outputs": [
    {
     "name": "stdout",
     "output_type": "stream",
     "text": [
      "The share of missing rows is: 0.03%\n"
     ]
    }
   ],
   "source": [
    "# Check share of missing rows before removing:\n",
    "\n",
    "print('The share of missing rows is: {:.2%}'.format(data_raw['chain'].isna().sum() / len(data_raw)))"
   ]
  },
  {
   "cell_type": "code",
   "execution_count": 12,
   "id": "a29a6759",
   "metadata": {},
   "outputs": [],
   "source": [
    "# drop rows with missing values\n",
    "data_raw = data_raw.dropna()"
   ]
  },
  {
   "cell_type": "code",
   "execution_count": 13,
   "id": "62ff8603",
   "metadata": {},
   "outputs": [
    {
     "data": {
      "text/plain": [
       "0"
      ]
     },
     "execution_count": 13,
     "metadata": {},
     "output_type": "execute_result"
    }
   ],
   "source": [
    "# check duplicates:\n",
    "data_raw.duplicated().sum()"
   ]
  },
  {
   "cell_type": "code",
   "execution_count": 14,
   "id": "a910e73b",
   "metadata": {},
   "outputs": [
    {
     "data": {
      "text/plain": [
       "Restaurant    0.751762\n",
       "Fast Food     0.110489\n",
       "Cafe          0.045087\n",
       "Pizza         0.033064\n",
       "Bar           0.030265\n",
       "Bakery        0.029333\n",
       "Name: object_type, dtype: float64"
      ]
     },
     "execution_count": 14,
     "metadata": {},
     "output_type": "execute_result"
    }
   ],
   "source": [
    "# check what share each category takes\n",
    "data_raw.object_type.value_counts(normalize = True)"
   ]
  },
  {
   "cell_type": "code",
   "execution_count": 15,
   "id": "abe2ebff",
   "metadata": {},
   "outputs": [
    {
     "data": {
      "image/png": "[encoded data removed]",
      "text/plain": [
       "<Figure size 504x288 with 1 Axes>"
      ]
     },
     "metadata": {
      "needs_background": "light"
     },
     "output_type": "display_data"
    }
   ],
   "source": [
    "# check seats histogram\n",
    "\n",
    "data_raw.seats.hist(bins = 60, figsize = (7,4))\n",
    "plt.ylabel('Number of seats', fontsize = 14)\n",
    "plt.xlabel('Number of establishments', fontsize = 14)\n",
    "plt.title('Number of seats on all streets', fontsize = 16)\n",
    "plt.show()"
   ]
  },
  {
   "cell_type": "code",
   "execution_count": 16,
   "id": "eb57fa26",
   "metadata": {},
   "outputs": [
    {
     "data": {
      "image/png": "[encoded data removed]",
      "text/plain": [
       "<Figure size 432x288 with 1 Axes>"
      ]
     },
     "metadata": {
      "needs_background": "light"
     },
     "output_type": "display_data"
    }
   ],
   "source": [
    "data_raw.seats.plot(kind = 'box')\n",
    "plt.ylabel('Number of seats')\n",
    "plt.xlabel('Values distribution')\n",
    "plt.title('Number of seats boxplot')\n",
    "plt.show()"
   ]
  },
  {
   "cell_type": "code",
   "execution_count": 17,
   "id": "8ee91a0b",
   "metadata": {},
   "outputs": [
    {
     "name": "stdout",
     "output_type": "stream",
     "text": [
      "The share of establishments with more than 100 seats is 13.74%\n",
      "\n",
      "The share of establishments with more than 150 seats is 4.84%\n",
      "\n"
     ]
    }
   ],
   "source": [
    "#check share of establishments with over 100 and over 150 seats:\n",
    "print('The share of establishments with more than 100 seats is {:.2%}'\n",
    "      .format(len(data_raw.query('seats > 100')) / len(data_raw)))\n",
    "print()\n",
    "print('The share of establishments with more than 150 seats is {:.2%}'\n",
    "      .format(len(data_raw.query('seats > 150')) / len(data_raw)))\n",
    "print()"
   ]
  },
  {
   "cell_type": "markdown",
   "id": "86d93037",
   "metadata": {},
   "source": [
    "#### <font color = 'blue'>Notes:</font>\n",
    "\n",
    "While preprocessing, the following changes were made to the original data:<br>\n",
    "* 'object_type' column was converted to the category type.\n",
    "* 'number' column was renamed to 'seats' - it's numeric, so it is obvious that this column contains some number, but now it is also obvious, what numbers exactly are stored there.\n",
    "* Uppercase columns were converted to more readable format, with capitalized words.\n",
    "* Three rows with missing data (0.03%) were removed.\n",
    "\n",
    "\n",
    "No duplicates in data were found.<br>\n",
    "No outliers were found also.<br>\n",
    "I decided against treating higher values in 'seats' column as outliers. On the one hand, I am making research for a small spot so larger spots don't seem relevant, and according to the boxplot they can be treated as outliers. On the other hand, distribution of values clearly divides all the establishments into three categories, with obvious limits to each: up to 50 seats, 51-150 seats and 151-229 seats. Since all the values are distributed by some inner logic, dropping them may lead to losing valuable data."
   ]
  },
  {
   "cell_type": "markdown",
   "id": "67a630f4",
   "metadata": {},
   "source": [
    " [Return to table of contents ^^^](#Table-of-Contents)\n",
    "\n",
    "\n",
    "# Step 2\n",
    "## Investigate the proportions of the various types of establishments. Plot a graph."
   ]
  },
  {
   "cell_type": "code",
   "execution_count": 18,
   "id": "6fdb6918",
   "metadata": {},
   "outputs": [
    {
     "data": {
      "image/png": "[encoded data removed]",
      "text/plain": [
       "<Figure size 576x576 with 1 Axes>"
      ]
     },
     "metadata": {},
     "output_type": "display_data"
    }
   ],
   "source": [
    "colors = sns.color_palette('muted')\n",
    "data_raw.object_type.value_counts().plot(\n",
    "    kind = 'pie', fontsize = 12,  autopct='%1.1f%%', legend = False, figsize = (8,8), colors = colors)\n",
    "plt.title('Establishment types ratio', fontsize = 14)\n",
    "plt.ylabel('')\n",
    "plt.show()"
   ]
  },
  {
   "cell_type": "markdown",
   "id": "977e4ce7",
   "metadata": {},
   "source": [
    "#### <font color = 'blue'>Notes:</font>\n",
    "\n",
    "Most of the establishments are restaurants, with fast food in the second place.\n",
    "\n",
    " [Return to table of contents ^^^](#Table-of-Contents)"
   ]
  },
  {
   "cell_type": "markdown",
   "id": "fc227be5",
   "metadata": {},
   "source": [
    "## Investigate the proportions of chain and nonchain establishments. Plot a graph."
   ]
  },
  {
   "cell_type": "code",
   "execution_count": 19,
   "id": "183bb02d",
   "metadata": {},
   "outputs": [
    {
     "data": {
      "image/png": "[encoded data removed]",
      "text/plain": [
       "<Figure size 576x576 with 1 Axes>"
      ]
     },
     "metadata": {},
     "output_type": "display_data"
    }
   ],
   "source": [
    "data_raw.groupby('chain').id.count().plot(\n",
    "    kind = 'pie', fontsize = 12,  autopct='%1.1f%%', figsize = (8,8), colors = colors, labels = ['Nonchain', 'Chain'])\n",
    "plt.title('Chain to nonchain establishments ratio', fontsize = 14)\n",
    "plt.ylabel('')\n",
    "plt.show()"
   ]
  },
  {
   "cell_type": "markdown",
   "id": "9c354e21",
   "metadata": {},
   "source": [
    "#### <font color = 'blue'>Notes:</font>\n",
    "\n",
    "Most of the establishments are non-chains.\n",
    "\n",
    " [Return to table of contents ^^^](#Table-of-Contents)"
   ]
  },
  {
   "cell_type": "markdown",
   "id": "3efc2b28",
   "metadata": {},
   "source": [
    "## Which type of establishment is typically a chain?"
   ]
  },
  {
   "cell_type": "code",
   "execution_count": 20,
   "id": "37fd6b4e",
   "metadata": {},
   "outputs": [],
   "source": [
    "for category in data_raw.object_type.unique():\n",
    "    if category == 'Cafe':\n",
    "        temp1 = pd.concat([data_raw.query('object_type == @category')['chain'].value_counts(normalize = True)], axis = 1)\n",
    "        temp1 = temp1.rename(columns = {'chain':category})\n",
    "    else:\n",
    "        temp1 = pd.concat([temp1, \n",
    "                           data_raw.query('object_type == @category')['chain'].value_counts(normalize = True)], axis = 1)\n",
    "        temp1 = temp1.rename(columns = {'chain':category})"
   ]
  },
  {
   "cell_type": "code",
   "execution_count": 21,
   "id": "91b62f6d",
   "metadata": {},
   "outputs": [
    {
     "data": {
      "image/png": "[encoded data removed]",
      "text/plain": [
       "<Figure size 648x360 with 1 Axes>"
      ]
     },
     "metadata": {
      "needs_background": "light"
     },
     "output_type": "display_data"
    }
   ],
   "source": [
    "(temp1.T*100).plot(kind = 'barh', stacked = True, figsize = (9,5))\n",
    "plt.legend(['Chain', 'Non-Chain'])\n",
    "plt.xlabel('Ratio in %', fontsize = 12)\n",
    "plt.ylabel('Establishment type', fontsize = 12)\n",
    "plt.title('Ratio of chain to non-chain establishments', fontsize = 14)\n",
    "plt.show()"
   ]
  },
  {
   "cell_type": "markdown",
   "id": "300c6a6a",
   "metadata": {},
   "source": [
    "#### <font color = 'blue'>Notes:</font>\n",
    "\n",
    "* All of the bakeries belong to chains.\n",
    "* Bars and restaurants are mostly non-chains.\n",
    "\n",
    " [Return to table of contents ^^^](#Table-of-Contents)"
   ]
  },
  {
   "cell_type": "markdown",
   "id": "203165e5",
   "metadata": {},
   "source": [
    "## What characterizes chains: many establishments with a small number of seats or a few establishments with a lot of seats?\n"
   ]
  },
  {
   "cell_type": "code",
   "execution_count": 22,
   "id": "853514c0",
   "metadata": {},
   "outputs": [
    {
     "data": {
      "text/html": [
       "<div>\n",
       "<style scoped>\n",
       "    .dataframe tbody tr th:only-of-type {\n",
       "        vertical-align: middle;\n",
       "    }\n",
       "\n",
       "    .dataframe tbody tr th {\n",
       "        vertical-align: top;\n",
       "    }\n",
       "\n",
       "    .dataframe thead th {\n",
       "        text-align: right;\n",
       "    }\n",
       "</style>\n",
       "<table border=\"1\" class=\"dataframe\">\n",
       "  <thead>\n",
       "    <tr style=\"text-align: right;\">\n",
       "      <th></th>\n",
       "      <th>id</th>\n",
       "      <th>object_name</th>\n",
       "      <th>address</th>\n",
       "      <th>chain</th>\n",
       "      <th>object_type</th>\n",
       "      <th>seats</th>\n",
       "    </tr>\n",
       "  </thead>\n",
       "  <tbody>\n",
       "    <tr>\n",
       "      <th>7</th>\n",
       "      <td>11793</td>\n",
       "      <td>Pho Lala</td>\n",
       "      <td>3500 W 6th St Ste 226</td>\n",
       "      <td>False</td>\n",
       "      <td>Restaurant</td>\n",
       "      <td>7</td>\n",
       "    </tr>\n",
       "    <tr>\n",
       "      <th>12</th>\n",
       "      <td>11798</td>\n",
       "      <td>Emc Restaurant Group Llc</td>\n",
       "      <td>3500 W 6th St Ste 101</td>\n",
       "      <td>True</td>\n",
       "      <td>Restaurant</td>\n",
       "      <td>133</td>\n",
       "    </tr>\n",
       "    <tr>\n",
       "      <th>20</th>\n",
       "      <td>11806</td>\n",
       "      <td>Crystal Cafe</td>\n",
       "      <td>3500 W 6th St Ste #321</td>\n",
       "      <td>False</td>\n",
       "      <td>Restaurant</td>\n",
       "      <td>16</td>\n",
       "    </tr>\n",
       "    <tr>\n",
       "      <th>21</th>\n",
       "      <td>11807</td>\n",
       "      <td>Orange Tree Cafe</td>\n",
       "      <td>3500 W 6th St Ste #220</td>\n",
       "      <td>False</td>\n",
       "      <td>Restaurant</td>\n",
       "      <td>14</td>\n",
       "    </tr>\n",
       "    <tr>\n",
       "      <th>28</th>\n",
       "      <td>11814</td>\n",
       "      <td>Beverly Falafel</td>\n",
       "      <td>8508 W 3rd St</td>\n",
       "      <td>False</td>\n",
       "      <td>Restaurant</td>\n",
       "      <td>31</td>\n",
       "    </tr>\n",
       "    <tr>\n",
       "      <th>35</th>\n",
       "      <td>11821</td>\n",
       "      <td>Reggie's Deli &amp; Cafe</td>\n",
       "      <td>1910 W Sunset Blvd Ste 150</td>\n",
       "      <td>True</td>\n",
       "      <td>Restaurant</td>\n",
       "      <td>1</td>\n",
       "    </tr>\n",
       "    <tr>\n",
       "      <th>50</th>\n",
       "      <td>11836</td>\n",
       "      <td>Jacky's Restaurant</td>\n",
       "      <td>310 W 5th St #102</td>\n",
       "      <td>True</td>\n",
       "      <td>Restaurant</td>\n",
       "      <td>27</td>\n",
       "    </tr>\n",
       "    <tr>\n",
       "      <th>53</th>\n",
       "      <td>11839</td>\n",
       "      <td>Prime Grind Coffee</td>\n",
       "      <td>714 W 1st St</td>\n",
       "      <td>False</td>\n",
       "      <td>Cafe</td>\n",
       "      <td>4</td>\n",
       "    </tr>\n",
       "    <tr>\n",
       "      <th>74</th>\n",
       "      <td>11860</td>\n",
       "      <td>Noodle Plus</td>\n",
       "      <td>3250 W Olympic Blvd Ste 309</td>\n",
       "      <td>False</td>\n",
       "      <td>Restaurant</td>\n",
       "      <td>25</td>\n",
       "    </tr>\n",
       "    <tr>\n",
       "      <th>75</th>\n",
       "      <td>11861</td>\n",
       "      <td>Vns Chicken</td>\n",
       "      <td>3250 W Olympic Blvd Ste 105</td>\n",
       "      <td>False</td>\n",
       "      <td>Restaurant</td>\n",
       "      <td>29</td>\n",
       "    </tr>\n",
       "  </tbody>\n",
       "</table>\n",
       "</div>"
      ],
      "text/plain": [
       "       id               object_name                      address  chain  \\\n",
       "7   11793                  Pho Lala        3500 W 6th St Ste 226  False   \n",
       "12  11798  Emc Restaurant Group Llc        3500 W 6th St Ste 101   True   \n",
       "20  11806              Crystal Cafe       3500 W 6th St Ste #321  False   \n",
       "21  11807          Orange Tree Cafe       3500 W 6th St Ste #220  False   \n",
       "28  11814           Beverly Falafel                8508 W 3rd St  False   \n",
       "35  11821      Reggie's Deli & Cafe   1910 W Sunset Blvd Ste 150   True   \n",
       "50  11836        Jacky's Restaurant            310 W 5th St #102   True   \n",
       "53  11839        Prime Grind Coffee                 714 W 1st St  False   \n",
       "74  11860               Noodle Plus  3250 W Olympic Blvd Ste 309  False   \n",
       "75  11861               Vns Chicken  3250 W Olympic Blvd Ste 105  False   \n",
       "\n",
       "   object_type  seats  \n",
       "7   Restaurant      7  \n",
       "12  Restaurant    133  \n",
       "20  Restaurant     16  \n",
       "21  Restaurant     14  \n",
       "28  Restaurant     31  \n",
       "35  Restaurant      1  \n",
       "50  Restaurant     27  \n",
       "53        Cafe      4  \n",
       "74  Restaurant     25  \n",
       "75  Restaurant     29  "
      ]
     },
     "execution_count": 22,
     "metadata": {},
     "output_type": "execute_result"
    }
   ],
   "source": [
    "# check for W streets which according to map should be more than one:\n",
    "data_raw[data_raw['address'].str.contains('W ') & data_raw['address'].str.contains('St')].head(10)"
   ]
  },
  {
   "cell_type": "code",
   "execution_count": 23,
   "id": "1ec39d4f",
   "metadata": {},
   "outputs": [],
   "source": [
    "# create function for removing numbers from text (it will be useful later in extracting street names too)\n",
    "\n",
    "def clear_numbers(value):\n",
    "    result = []\n",
    "    # I checked LA map and there were many numbered 'W' streets, so I separate processing those name with a condition:\n",
    "    if 'W ' in value and 'th St' in value:\n",
    "        # every such street value looks like \"W XXth St\", where XX is some number, so I need to extract those three words:\n",
    "        street_id = re.search('W (.+?) St', value).span()\n",
    "        return value[street_id[0]:street_id[1]]\n",
    "    else:       \n",
    "        for word in value.split(' '):\n",
    "            if word.isalpha():\n",
    "                result.append(word)\n",
    "        if result == []:\n",
    "            return value\n",
    "        else:\n",
    "            return ' '.join(result)"
   ]
  },
  {
   "cell_type": "code",
   "execution_count": 24,
   "id": "a71bd5f9",
   "metadata": {},
   "outputs": [],
   "source": [
    "# add a column of object names without numbers:\n",
    "data_raw['object_name'] = data_raw['object_name'].apply(clear_numbers)"
   ]
  },
  {
   "cell_type": "code",
   "execution_count": 25,
   "id": "87f7995d",
   "metadata": {},
   "outputs": [
    {
     "data": {
      "text/html": [
       "<div>\n",
       "<style scoped>\n",
       "    .dataframe tbody tr th:only-of-type {\n",
       "        vertical-align: middle;\n",
       "    }\n",
       "\n",
       "    .dataframe tbody tr th {\n",
       "        vertical-align: top;\n",
       "    }\n",
       "\n",
       "    .dataframe thead th {\n",
       "        text-align: right;\n",
       "    }\n",
       "</style>\n",
       "<table border=\"1\" class=\"dataframe\">\n",
       "  <thead>\n",
       "    <tr style=\"text-align: right;\">\n",
       "      <th></th>\n",
       "      <th>object_name</th>\n",
       "      <th>establishments</th>\n",
       "      <th>seats</th>\n",
       "    </tr>\n",
       "  </thead>\n",
       "  <tbody>\n",
       "    <tr>\n",
       "      <th>1669</th>\n",
       "      <td>Subway</td>\n",
       "      <td>121</td>\n",
       "      <td>16.826446</td>\n",
       "    </tr>\n",
       "    <tr>\n",
       "      <th>1652</th>\n",
       "      <td>Starbucks Coffee</td>\n",
       "      <td>87</td>\n",
       "      <td>24.850575</td>\n",
       "    </tr>\n",
       "    <tr>\n",
       "      <th>1473</th>\n",
       "      <td>Restaurant</td>\n",
       "      <td>59</td>\n",
       "      <td>43.610169</td>\n",
       "    </tr>\n",
       "    <tr>\n",
       "      <th>758</th>\n",
       "      <td>Jack In The Box</td>\n",
       "      <td>53</td>\n",
       "      <td>65.981132</td>\n",
       "    </tr>\n",
       "    <tr>\n",
       "      <th>1780</th>\n",
       "      <td>The Coffee Bean Tea Leaf</td>\n",
       "      <td>52</td>\n",
       "      <td>26.057692</td>\n",
       "    </tr>\n",
       "    <tr>\n",
       "      <th>...</th>\n",
       "      <td>...</td>\n",
       "      <td>...</td>\n",
       "      <td>...</td>\n",
       "    </tr>\n",
       "    <tr>\n",
       "      <th>766</th>\n",
       "      <td>Jang Ga Ne Restaurant</td>\n",
       "      <td>1</td>\n",
       "      <td>8.000000</td>\n",
       "    </tr>\n",
       "    <tr>\n",
       "      <th>765</th>\n",
       "      <td>Jang An Restaurant</td>\n",
       "      <td>1</td>\n",
       "      <td>1.000000</td>\n",
       "    </tr>\n",
       "    <tr>\n",
       "      <th>764</th>\n",
       "      <td>Janet Lee</td>\n",
       "      <td>1</td>\n",
       "      <td>23.000000</td>\n",
       "    </tr>\n",
       "    <tr>\n",
       "      <th>763</th>\n",
       "      <td>James Restaurant</td>\n",
       "      <td>1</td>\n",
       "      <td>4.000000</td>\n",
       "    </tr>\n",
       "    <tr>\n",
       "      <th>1992</th>\n",
       "      <td>Zip Sushi Izakaya</td>\n",
       "      <td>1</td>\n",
       "      <td>98.000000</td>\n",
       "    </tr>\n",
       "  </tbody>\n",
       "</table>\n",
       "<p>1993 rows × 3 columns</p>\n",
       "</div>"
      ],
      "text/plain": [
       "                   object_name  establishments      seats\n",
       "1669                    Subway             121  16.826446\n",
       "1652          Starbucks Coffee              87  24.850575\n",
       "1473                Restaurant              59  43.610169\n",
       "758            Jack In The Box              53  65.981132\n",
       "1780  The Coffee Bean Tea Leaf              52  26.057692\n",
       "...                        ...             ...        ...\n",
       "766      Jang Ga Ne Restaurant               1   8.000000\n",
       "765         Jang An Restaurant               1   1.000000\n",
       "764                  Janet Lee               1  23.000000\n",
       "763           James Restaurant               1   4.000000\n",
       "1992         Zip Sushi Izakaya               1  98.000000\n",
       "\n",
       "[1993 rows x 3 columns]"
      ]
     },
     "execution_count": 25,
     "metadata": {},
     "output_type": "execute_result"
    }
   ],
   "source": [
    "data_chains = data_raw.query('chain == True')\n",
    "\n",
    "chains = data_chains.groupby('object_name').agg(\n",
    "    {'object_name':'count', 'seats':'mean'}).rename(columns = {'object_name':'establishments'}).reset_index()\n",
    "\n",
    "# check the result:\n",
    "chains.sort_values('establishments', ascending = False)"
   ]
  },
  {
   "cell_type": "code",
   "execution_count": 26,
   "id": "47757ef5",
   "metadata": {
    "scrolled": true
   },
   "outputs": [
    {
     "data": {
      "image/png": "[encoded data removed]",
      "text/plain": [
       "<Figure size 864x288 with 2 Axes>"
      ]
     },
     "metadata": {
      "needs_background": "light"
     },
     "output_type": "display_data"
    }
   ],
   "source": [
    "# check establishments and seats histograms:\n",
    "\n",
    "fig, axis = plt.subplots(1,2, figsize = (12,4))\n",
    "fig.suptitle('Chain characteristics histogram', fontsize = 16)\n",
    "\n",
    "# establishments\n",
    "axis[0].hist(chains.establishments, bins = 100)\n",
    "axis[0].set_title('Establishments', fontsize = 14)\n",
    "axis[0].set_xlabel('Establishments per chain')\n",
    "axis[0].set_ylabel('Total values')\n",
    "\n",
    "# seats\n",
    "axis[1].hist(chains.seats, bins = 50, color = 'green')\n",
    "axis[1].set_title('Average seats per establishment', fontsize = 14)\n",
    "axis[1].set_xlabel('Seats')\n",
    "axis[1].set_ylabel('Total values')\n",
    "\n",
    "plt.show()"
   ]
  },
  {
   "cell_type": "code",
   "execution_count": 27,
   "id": "21c35884",
   "metadata": {},
   "outputs": [
    {
     "name": "stdout",
     "output_type": "stream",
     "text": [
      "Share of chains with only 1 establishmen in LA: 0.75\n",
      "The average amount of seats in chains with only 1 establishment: 44\n"
     ]
    }
   ],
   "source": [
    "print('Share of chains with only 1 establishmen in LA:', \n",
    "     round(len(chains.query('establishments == 1')) / len(chains), 2))\n",
    "print('The average amount of seats in chains with only 1 establishment:',\n",
    "     round(chains.query('establishments == 1').seats.mean()))"
   ]
  },
  {
   "cell_type": "code",
   "execution_count": 28,
   "id": "45bedd36",
   "metadata": {},
   "outputs": [
    {
     "name": "stdout",
     "output_type": "stream",
     "text": [
      "The average amount of seats in chain establishments: 42\n",
      "The average amount of establishments in chains with more than 1 establishment in LA: 4\n"
     ]
    }
   ],
   "source": [
    "print('The average amount of seats in chain establishments:',\n",
    "     round(chains.seats.mean()))\n",
    "\n",
    "print('The average amount of establishments in chains with more than 1 establishment in LA:',\n",
    "     round(chains.query('establishments > 1').establishments.mean()))"
   ]
  },
  {
   "cell_type": "markdown",
   "id": "590c68ba",
   "metadata": {},
   "source": [
    "#### <font color = 'blue'>Notes:</font>\n",
    "\n",
    "* Most of the chains (75%) have only 1 establishment in LA. I decided against removing them from the dataset, because there are probably many global chains which work in more than one region.\n",
    "* For chains that have more than 1 establishment in LA, average number of establishments is 4.\n",
    "* Average amount of seats per chain with 1 establishment is 44, for chains with more than 1 establishment is 42.\n",
    "\n",
    " [Return to table of contents ^^^](#Table-of-Contents)"
   ]
  },
  {
   "cell_type": "code",
   "execution_count": 29,
   "id": "2a284dda",
   "metadata": {},
   "outputs": [
    {
     "data": {
      "image/png": "[encoded data removed]",
      "text/plain": [
       "<Figure size 864x360 with 1 Axes>"
      ]
     },
     "metadata": {
      "needs_background": "light"
     },
     "output_type": "display_data"
    }
   ],
   "source": [
    "# check establishments per chain for chains with 2-50 establishments in LA:\n",
    "\n",
    "chains.query('establishments > 1').establishments.hist(bins = [2, 3, 5, 10, 15, 20, 30, 50], figsize = (12,5))\n",
    "plt.ylabel('Total values', fontsize = 14)\n",
    "plt.xlabel('Establishments per chain', fontsize = 14)\n",
    "plt.title('Chain establishments histogram', fontsize = 16)\n",
    "plt.show()"
   ]
  },
  {
   "cell_type": "code",
   "execution_count": 30,
   "id": "f02008c6",
   "metadata": {},
   "outputs": [],
   "source": [
    "# function for dividing values into 3 categories, with option to enter manually category limits\n",
    "\n",
    "def categorize (column, low, medium):\n",
    "    if column <= low:\n",
    "        return 'small'\n",
    "    elif column <= medium:\n",
    "        return 'medium'\n",
    "    else: \n",
    "        return 'large'"
   ]
  },
  {
   "cell_type": "code",
   "execution_count": 31,
   "id": "64b0b811",
   "metadata": {},
   "outputs": [
    {
     "data": {
      "text/html": [
       "<div>\n",
       "<style scoped>\n",
       "    .dataframe tbody tr th:only-of-type {\n",
       "        vertical-align: middle;\n",
       "    }\n",
       "\n",
       "    .dataframe tbody tr th {\n",
       "        vertical-align: top;\n",
       "    }\n",
       "\n",
       "    .dataframe thead th {\n",
       "        text-align: right;\n",
       "    }\n",
       "</style>\n",
       "<table border=\"1\" class=\"dataframe\">\n",
       "  <thead>\n",
       "    <tr style=\"text-align: right;\">\n",
       "      <th></th>\n",
       "      <th>object_name</th>\n",
       "      <th>establishments</th>\n",
       "      <th>seats</th>\n",
       "      <th>chain_size</th>\n",
       "      <th>establishment_size</th>\n",
       "    </tr>\n",
       "  </thead>\n",
       "  <tbody>\n",
       "    <tr>\n",
       "      <th>0</th>\n",
       "      <td>333</td>\n",
       "      <td>1</td>\n",
       "      <td>180.0</td>\n",
       "      <td>small</td>\n",
       "      <td>large</td>\n",
       "    </tr>\n",
       "    <tr>\n",
       "      <th>1</th>\n",
       "      <td>A Mi Japanese Restaurant</td>\n",
       "      <td>1</td>\n",
       "      <td>204.0</td>\n",
       "      <td>small</td>\n",
       "      <td>large</td>\n",
       "    </tr>\n",
       "    <tr>\n",
       "      <th>2</th>\n",
       "      <td>A Won Japanase Restaurant</td>\n",
       "      <td>1</td>\n",
       "      <td>105.0</td>\n",
       "      <td>small</td>\n",
       "      <td>medium</td>\n",
       "    </tr>\n",
       "    <tr>\n",
       "      <th>3</th>\n",
       "      <td>A Won Japanese Restaurant</td>\n",
       "      <td>1</td>\n",
       "      <td>97.0</td>\n",
       "      <td>small</td>\n",
       "      <td>medium</td>\n",
       "    </tr>\n",
       "    <tr>\n",
       "      <th>4</th>\n",
       "      <td>Aa Chinese Express Fast Food</td>\n",
       "      <td>1</td>\n",
       "      <td>15.0</td>\n",
       "      <td>small</td>\n",
       "      <td>small</td>\n",
       "    </tr>\n",
       "  </tbody>\n",
       "</table>\n",
       "</div>"
      ],
      "text/plain": [
       "                    object_name  establishments  seats chain_size  \\\n",
       "0                           333               1  180.0      small   \n",
       "1      A Mi Japanese Restaurant               1  204.0      small   \n",
       "2     A Won Japanase Restaurant               1  105.0      small   \n",
       "3     A Won Japanese Restaurant               1   97.0      small   \n",
       "4  Aa Chinese Express Fast Food               1   15.0      small   \n",
       "\n",
       "  establishment_size  \n",
       "0              large  \n",
       "1              large  \n",
       "2             medium  \n",
       "3             medium  \n",
       "4              small  "
      ]
     },
     "execution_count": 31,
     "metadata": {},
     "output_type": "execute_result"
    }
   ],
   "source": [
    "# categorize chains by number of establishments and seats:\n",
    "\n",
    "chains['chain_size'] = chains['establishments'].apply(categorize, low = 5, medium = 15)\n",
    "chains['establishment_size'] = chains['seats'].apply(categorize, low = 50, medium = 150)\n",
    "chains.head()"
   ]
  },
  {
   "cell_type": "code",
   "execution_count": 32,
   "id": "45f5d4ac",
   "metadata": {},
   "outputs": [
    {
     "data": {
      "text/html": [
       "<div>\n",
       "<style scoped>\n",
       "    .dataframe tbody tr th:only-of-type {\n",
       "        vertical-align: middle;\n",
       "    }\n",
       "\n",
       "    .dataframe tbody tr th {\n",
       "        vertical-align: top;\n",
       "    }\n",
       "\n",
       "    .dataframe thead th {\n",
       "        text-align: right;\n",
       "    }\n",
       "</style>\n",
       "<table border=\"1\" class=\"dataframe\">\n",
       "  <thead>\n",
       "    <tr style=\"text-align: right;\">\n",
       "      <th>chain_size</th>\n",
       "      <th>large</th>\n",
       "      <th>medium</th>\n",
       "      <th>small</th>\n",
       "    </tr>\n",
       "    <tr>\n",
       "      <th>establishment_size</th>\n",
       "      <th></th>\n",
       "      <th></th>\n",
       "      <th></th>\n",
       "    </tr>\n",
       "  </thead>\n",
       "  <tbody>\n",
       "    <tr>\n",
       "      <th>large</th>\n",
       "      <td>0.0</td>\n",
       "      <td>1.0</td>\n",
       "      <td>89.0</td>\n",
       "    </tr>\n",
       "    <tr>\n",
       "      <th>medium</th>\n",
       "      <td>4.0</td>\n",
       "      <td>2.0</td>\n",
       "      <td>326.0</td>\n",
       "    </tr>\n",
       "    <tr>\n",
       "      <th>small</th>\n",
       "      <td>14.0</td>\n",
       "      <td>31.0</td>\n",
       "      <td>1526.0</td>\n",
       "    </tr>\n",
       "  </tbody>\n",
       "</table>\n",
       "</div>"
      ],
      "text/plain": [
       "chain_size          large  medium   small\n",
       "establishment_size                       \n",
       "large                 0.0     1.0    89.0\n",
       "medium                4.0     2.0   326.0\n",
       "small                14.0    31.0  1526.0"
      ]
     },
     "execution_count": 32,
     "metadata": {},
     "output_type": "execute_result"
    }
   ],
   "source": [
    "chain_cat = chains.pivot_table(\n",
    "    columns = 'chain_size',\n",
    "    index = 'establishment_size',\n",
    "    values = 'object_name',\n",
    "    aggfunc = 'count').fillna(0)\n",
    "\n",
    "chain_cat"
   ]
  },
  {
   "cell_type": "code",
   "execution_count": 33,
   "id": "72b4b344",
   "metadata": {},
   "outputs": [
    {
     "data": {
      "text/html": [
       "<div>\n",
       "<style scoped>\n",
       "    .dataframe tbody tr th:only-of-type {\n",
       "        vertical-align: middle;\n",
       "    }\n",
       "\n",
       "    .dataframe tbody tr th {\n",
       "        vertical-align: top;\n",
       "    }\n",
       "\n",
       "    .dataframe thead th {\n",
       "        text-align: right;\n",
       "    }\n",
       "</style>\n",
       "<table border=\"1\" class=\"dataframe\">\n",
       "  <thead>\n",
       "    <tr style=\"text-align: right;\">\n",
       "      <th>chain_size</th>\n",
       "      <th>large</th>\n",
       "      <th>medium</th>\n",
       "      <th>small</th>\n",
       "    </tr>\n",
       "    <tr>\n",
       "      <th>establishment_size</th>\n",
       "      <th></th>\n",
       "      <th></th>\n",
       "      <th></th>\n",
       "    </tr>\n",
       "  </thead>\n",
       "  <tbody>\n",
       "    <tr>\n",
       "      <th>large</th>\n",
       "      <td>0.00</td>\n",
       "      <td>0.03</td>\n",
       "      <td>0.05</td>\n",
       "    </tr>\n",
       "    <tr>\n",
       "      <th>medium</th>\n",
       "      <td>0.22</td>\n",
       "      <td>0.06</td>\n",
       "      <td>0.17</td>\n",
       "    </tr>\n",
       "    <tr>\n",
       "      <th>small</th>\n",
       "      <td>0.78</td>\n",
       "      <td>0.91</td>\n",
       "      <td>0.79</td>\n",
       "    </tr>\n",
       "  </tbody>\n",
       "</table>\n",
       "</div>"
      ],
      "text/plain": [
       "chain_size          large  medium  small\n",
       "establishment_size                      \n",
       "large                0.00    0.03   0.05\n",
       "medium               0.22    0.06   0.17\n",
       "small                0.78    0.91   0.79"
      ]
     },
     "execution_count": 33,
     "metadata": {},
     "output_type": "execute_result"
    }
   ],
   "source": [
    "chain_cat_norm = pd.crosstab(\n",
    "    columns = chains.chain_size,\n",
    "    index = chains.establishment_size,\n",
    "    values = chains.object_name,\n",
    "    aggfunc = 'count',\n",
    "    normalize = 'columns').round(2)\n",
    "\n",
    "chain_cat_norm"
   ]
  },
  {
   "cell_type": "code",
   "execution_count": 34,
   "id": "5aab1224",
   "metadata": {},
   "outputs": [
    {
     "data": {
      "image/png": "[encoded data removed]",
      "text/plain": [
       "<Figure size 648x360 with 1 Axes>"
      ]
     },
     "metadata": {
      "needs_background": "light"
     },
     "output_type": "display_data"
    }
   ],
   "source": [
    "(chain_cat_norm.T*100).plot(kind = 'barh', stacked = True, figsize = (9,5))\n",
    "plt.legend(['151 seats and more', '51-150 seats', 'less than 50 seats'])\n",
    "plt.xlabel('Establishment size', fontsize = 12)\n",
    "plt.ylabel('Chain size', fontsize = 12)\n",
    "plt.title('Establishments ratio by chain size', fontsize = 14)\n",
    "plt.show()"
   ]
  },
  {
   "cell_type": "markdown",
   "id": "80781ee5",
   "metadata": {},
   "source": [
    "#### <font color = 'blue'>Notes:</font>\n",
    "\n",
    "To answer to this question, I categorized each chain by average amount of seats and number of establishments, and then counted how many chains there are in each kind of category. The results are:\n",
    "* All kinds of chains have mostly small establishments (up to 50 seats).\n",
    "* Large chains have greatest share of medium sized establishments (51-150 seats).\n",
    "* There are very little large establishments: only 5% and 4% of small and medium chains, relatively.\n",
    "\n",
    " [Return to table of contents ^^^](#Table-of-Contents)"
   ]
  },
  {
   "cell_type": "markdown",
   "id": "6649f202",
   "metadata": {},
   "source": [
    "## Determine the average number of seats for each type of restaurant. On average, which type of restaurant has the greatest number of seats? Plot graphs."
   ]
  },
  {
   "cell_type": "code",
   "execution_count": 35,
   "id": "d6620349",
   "metadata": {},
   "outputs": [
    {
     "data": {
      "image/png": "[encoded data removed]",
      "text/plain": [
       "<Figure size 720x360 with 1 Axes>"
      ]
     },
     "metadata": {
      "needs_background": "light"
     },
     "output_type": "display_data"
    }
   ],
   "source": [
    "plt.figure(figsize = (10,5))\n",
    "ax = sns.barplot(data = data_raw, \n",
    "                 y = 'seats', \n",
    "                 x = 'object_type', \n",
    "                 hue = 'chain', \n",
    "                 palette = 'muted', \n",
    "                 hue_order = [True, False])\n",
    "\n",
    "h, l = ax.get_legend_handles_labels()\n",
    "ax.legend(h, ['Chain', 'Non-chain'])\n",
    "\n",
    "ax.set_title('Average seats per establishment type', fontsize = 16)\n",
    "ax.set_xlabel('Establishment type', fontsize = 14)\n",
    "ax.set_ylabel('Average number of seats', fontsize = 14)\n",
    "plt.show()"
   ]
  },
  {
   "cell_type": "markdown",
   "id": "7e9da085",
   "metadata": {},
   "source": [
    "#### <font color = 'blue'>Notes:</font>\n",
    "\n",
    "* Restaurants and bars have largest average number of seats (45-50).\n",
    "* Non-chain restaurants and bars are larger.\n",
    "* Bakeries have the smallest average number of seats (around 21), and all of them are chains.\n",
    "\n",
    " [Return to table of contents ^^^](#Table-of-Contents)"
   ]
  },
  {
   "cell_type": "markdown",
   "id": "51e8cce3",
   "metadata": {},
   "source": [
    "## Put the data on street names from the address column in a separate column."
   ]
  },
  {
   "cell_type": "code",
   "execution_count": 36,
   "id": "4f99edfc",
   "metadata": {},
   "outputs": [
    {
     "data": {
      "text/html": [
       "<div>\n",
       "<style scoped>\n",
       "    .dataframe tbody tr th:only-of-type {\n",
       "        vertical-align: middle;\n",
       "    }\n",
       "\n",
       "    .dataframe tbody tr th {\n",
       "        vertical-align: top;\n",
       "    }\n",
       "\n",
       "    .dataframe thead th {\n",
       "        text-align: right;\n",
       "    }\n",
       "</style>\n",
       "<table border=\"1\" class=\"dataframe\">\n",
       "  <thead>\n",
       "    <tr style=\"text-align: right;\">\n",
       "      <th></th>\n",
       "      <th>id</th>\n",
       "      <th>object_name</th>\n",
       "      <th>address</th>\n",
       "      <th>chain</th>\n",
       "      <th>object_type</th>\n",
       "      <th>seats</th>\n",
       "      <th>street</th>\n",
       "    </tr>\n",
       "  </thead>\n",
       "  <tbody>\n",
       "    <tr>\n",
       "      <th>0</th>\n",
       "      <td>11786</td>\n",
       "      <td>Habitat Coffee Shop</td>\n",
       "      <td>3708 N Eagle Rock Blvd</td>\n",
       "      <td>False</td>\n",
       "      <td>Cafe</td>\n",
       "      <td>26</td>\n",
       "      <td>N Eagle Rock Blvd</td>\n",
       "    </tr>\n",
       "    <tr>\n",
       "      <th>1</th>\n",
       "      <td>11787</td>\n",
       "      <td>Reilly's</td>\n",
       "      <td>100 World Way # 120</td>\n",
       "      <td>False</td>\n",
       "      <td>Restaurant</td>\n",
       "      <td>9</td>\n",
       "      <td>World Way</td>\n",
       "    </tr>\n",
       "    <tr>\n",
       "      <th>2</th>\n",
       "      <td>11788</td>\n",
       "      <td>Street Churros</td>\n",
       "      <td>6801 Hollywood Blvd # 253</td>\n",
       "      <td>False</td>\n",
       "      <td>Fast Food</td>\n",
       "      <td>20</td>\n",
       "      <td>Hollywood Blvd</td>\n",
       "    </tr>\n",
       "    <tr>\n",
       "      <th>3</th>\n",
       "      <td>11789</td>\n",
       "      <td>Triniti Echo Park</td>\n",
       "      <td>1814 W Sunset Blvd</td>\n",
       "      <td>False</td>\n",
       "      <td>Restaurant</td>\n",
       "      <td>22</td>\n",
       "      <td>W Sunset Blvd</td>\n",
       "    </tr>\n",
       "    <tr>\n",
       "      <th>4</th>\n",
       "      <td>11790</td>\n",
       "      <td>Pollen</td>\n",
       "      <td>2100 Echo Park Ave</td>\n",
       "      <td>False</td>\n",
       "      <td>Restaurant</td>\n",
       "      <td>20</td>\n",
       "      <td>Echo Park Ave</td>\n",
       "    </tr>\n",
       "  </tbody>\n",
       "</table>\n",
       "</div>"
      ],
      "text/plain": [
       "      id          object_name                    address  chain object_type  \\\n",
       "0  11786  Habitat Coffee Shop     3708 N Eagle Rock Blvd  False        Cafe   \n",
       "1  11787             Reilly's        100 World Way # 120  False  Restaurant   \n",
       "2  11788       Street Churros  6801 Hollywood Blvd # 253  False   Fast Food   \n",
       "3  11789    Triniti Echo Park         1814 W Sunset Blvd  False  Restaurant   \n",
       "4  11790               Pollen         2100 Echo Park Ave  False  Restaurant   \n",
       "\n",
       "   seats             street  \n",
       "0     26  N Eagle Rock Blvd  \n",
       "1      9          World Way  \n",
       "2     20     Hollywood Blvd  \n",
       "3     22      W Sunset Blvd  \n",
       "4     20      Echo Park Ave  "
      ]
     },
     "execution_count": 36,
     "metadata": {},
     "output_type": "execute_result"
    }
   ],
   "source": [
    "data_raw['street'] = data_raw['address'].apply(clear_numbers)\n",
    "data_raw.head()"
   ]
  },
  {
   "cell_type": "markdown",
   "id": "457fdb51",
   "metadata": {},
   "source": [
    "## Plot a graph of the top ten streets by number of restaurants."
   ]
  },
  {
   "cell_type": "code",
   "execution_count": 37,
   "id": "2d3b9daa",
   "metadata": {},
   "outputs": [],
   "source": [
    "toptenstreets = data_raw.groupby('street').agg({'object_name':'count'}\n",
    "                                              ).sort_values('object_name', ascending = False).head(10)"
   ]
  },
  {
   "cell_type": "code",
   "execution_count": 38,
   "id": "a737b7c5",
   "metadata": {
    "scrolled": false
   },
   "outputs": [
    {
     "data": {
      "image/png": "[encoded data removed]",
      "text/plain": [
       "<Figure size 864x360 with 1 Axes>"
      ]
     },
     "metadata": {
      "needs_background": "light"
     },
     "output_type": "display_data"
    }
   ],
   "source": [
    "toptenstreets.plot(kind = 'bar', figsize = (12,5), color = 'green', rot = 30).legend().remove()\n",
    "plt.title('Top ten streets by number of restaurants', fontsize=16)\n",
    "plt.ylabel('Total establishments', fontsize=14)\n",
    "plt.xlabel('street', fontsize=14)\n",
    "plt.show()"
   ]
  },
  {
   "cell_type": "markdown",
   "id": "97c81de8",
   "metadata": {},
   "source": [
    "## Find the number of streets that only have one restaurant."
   ]
  },
  {
   "cell_type": "code",
   "execution_count": 39,
   "id": "014e5bf9",
   "metadata": {},
   "outputs": [
    {
     "name": "stdout",
     "output_type": "stream",
     "text": [
      "The number of streets with only one restaurant is: 651\n"
     ]
    }
   ],
   "source": [
    "print('The number of streets with only one restaurant is:',\n",
    "      len(data_raw.groupby('street').agg({'object_name':'count'}).query('object_name == 1')))"
   ]
  },
  {
   "cell_type": "markdown",
   "id": "c07c6fe5",
   "metadata": {},
   "source": [
    "## For streets with a lot of restaurants, look at the distribution of the number of seats. What trends can you see?"
   ]
  },
  {
   "cell_type": "code",
   "execution_count": 40,
   "id": "f4d9335c",
   "metadata": {},
   "outputs": [
    {
     "data": {
      "image/png": "[encoded data removed]",
      "text/plain": [
       "<Figure size 864x360 with 1 Axes>"
      ]
     },
     "metadata": {
      "needs_background": "light"
     },
     "output_type": "display_data"
    }
   ],
   "source": [
    "plt.figure(figsize = (12,5))\n",
    "sns.stripplot(data = data_raw.query('street in @toptenstreets.index'), x = 'street', y = 'seats')\n",
    "plt.xticks(rotation=30)\n",
    "plt.ylabel('Number of seats', fontsize = 14)\n",
    "plt.xlabel('Street name', fontsize = 14)\n",
    "plt.title('Number of seats on popular streets', fontsize = 16)\n",
    "plt.show()"
   ]
  },
  {
   "cell_type": "code",
   "execution_count": 41,
   "id": "77019f86",
   "metadata": {
    "scrolled": false
   },
   "outputs": [
    {
     "data": {
      "image/png": "[encoded data removed]",
      "text/plain": [
       "<Figure size 864x360 with 1 Axes>"
      ]
     },
     "metadata": {},
     "output_type": "display_data"
    },
    {
     "data": {
      "image/png": "[encoded data removed]",
      "text/plain": [
       "<Figure size 864x360 with 1 Axes>"
      ]
     },
     "metadata": {},
     "output_type": "display_data"
    },
    {
     "data": {
      "image/png": "[encoded data removed]",
      "text/plain": [
       "<Figure size 864x360 with 1 Axes>"
      ]
     },
     "metadata": {},
     "output_type": "display_data"
    },
    {
     "data": {
      "image/png": "[encoded data removed]",
      "text/plain": [
       "<Figure size 864x360 with 1 Axes>"
      ]
     },
     "metadata": {},
     "output_type": "display_data"
    },
    {
     "data": {
      "image/png": "[encoded data removed]",
      "text/plain": [
       "<Figure size 864x360 with 1 Axes>"
      ]
     },
     "metadata": {},
     "output_type": "display_data"
    },
    {
     "data": {
      "image/png": "[encoded data removed]",
      "text/plain": [
       "<Figure size 864x360 with 1 Axes>"
      ]
     },
     "metadata": {},
     "output_type": "display_data"
    },
    {
     "data": {
      "image/png": "[encoded data removed]",
      "text/plain": [
       "<Figure size 864x360 with 1 Axes>"
      ]
     },
     "metadata": {},
     "output_type": "display_data"
    },
    {
     "data": {
      "image/png": "[encoded data removed]",
      "text/plain": [
       "<Figure size 864x360 with 1 Axes>"
      ]
     },
     "metadata": {},
     "output_type": "display_data"
    },
    {
     "data": {
      "image/png": "[encoded data removed]",
      "text/plain": [
       "<Figure size 864x360 with 1 Axes>"
      ]
     },
     "metadata": {},
     "output_type": "display_data"
    },
    {
     "data": {
      "image/png": "[encoded data removed]",
      "text/plain": [
       "<Figure size 864x360 with 1 Axes>"
      ]
     },
     "metadata": {},
     "output_type": "display_data"
    }
   ],
   "source": [
    "for street in toptenstreets.index:\n",
    "\n",
    "    sns.set_style(\"whitegrid\")\n",
    "    plt.figure(figsize = (12,5))\n",
    "    sns.histplot(\n",
    "        data_raw.query('street == @street'),\n",
    "        x = 'seats',\n",
    "        hue = 'chain',\n",
    "        hue_order = [ True, False],\n",
    "        palette = 'muted').set_title(street, fontsize = 14)\n",
    "    plt.legend(['Chain', 'Non-chain'], fontsize = 14)\n",
    "    plt.show()"
   ]
  },
  {
   "cell_type": "code",
   "execution_count": 42,
   "id": "b796d3bf",
   "metadata": {},
   "outputs": [
    {
     "data": {
      "text/html": [
       "<div>\n",
       "<style scoped>\n",
       "    .dataframe tbody tr th:only-of-type {\n",
       "        vertical-align: middle;\n",
       "    }\n",
       "\n",
       "    .dataframe tbody tr th {\n",
       "        vertical-align: top;\n",
       "    }\n",
       "\n",
       "    .dataframe thead th {\n",
       "        text-align: right;\n",
       "    }\n",
       "</style>\n",
       "<table border=\"1\" class=\"dataframe\">\n",
       "  <thead>\n",
       "    <tr style=\"text-align: right;\">\n",
       "      <th></th>\n",
       "      <th>object_name</th>\n",
       "      <th>chain</th>\n",
       "      <th>seats</th>\n",
       "      <th>chain_ratio</th>\n",
       "    </tr>\n",
       "    <tr>\n",
       "      <th>street</th>\n",
       "      <th></th>\n",
       "      <th></th>\n",
       "      <th></th>\n",
       "      <th></th>\n",
       "    </tr>\n",
       "  </thead>\n",
       "  <tbody>\n",
       "    <tr>\n",
       "      <th>W Sunset Blvd</th>\n",
       "      <td>322</td>\n",
       "      <td>116</td>\n",
       "      <td>50.422360</td>\n",
       "      <td>0.360248</td>\n",
       "    </tr>\n",
       "    <tr>\n",
       "      <th>W Pico Blvd</th>\n",
       "      <td>314</td>\n",
       "      <td>100</td>\n",
       "      <td>40.197452</td>\n",
       "      <td>0.318471</td>\n",
       "    </tr>\n",
       "    <tr>\n",
       "      <th>E St</th>\n",
       "      <td>282</td>\n",
       "      <td>86</td>\n",
       "      <td>35.163121</td>\n",
       "      <td>0.304965</td>\n",
       "    </tr>\n",
       "    <tr>\n",
       "      <th>Wilshire Blvd</th>\n",
       "      <td>242</td>\n",
       "      <td>84</td>\n",
       "      <td>54.913223</td>\n",
       "      <td>0.347107</td>\n",
       "    </tr>\n",
       "    <tr>\n",
       "      <th>W St</th>\n",
       "      <td>216</td>\n",
       "      <td>73</td>\n",
       "      <td>41.365741</td>\n",
       "      <td>0.337963</td>\n",
       "    </tr>\n",
       "    <tr>\n",
       "      <th>W 6th St</th>\n",
       "      <td>214</td>\n",
       "      <td>72</td>\n",
       "      <td>40.602804</td>\n",
       "      <td>0.336449</td>\n",
       "    </tr>\n",
       "    <tr>\n",
       "      <th>Santa Monica Blvd</th>\n",
       "      <td>210</td>\n",
       "      <td>81</td>\n",
       "      <td>35.200000</td>\n",
       "      <td>0.385714</td>\n",
       "    </tr>\n",
       "    <tr>\n",
       "      <th>S Western Ave</th>\n",
       "      <td>208</td>\n",
       "      <td>75</td>\n",
       "      <td>42.024038</td>\n",
       "      <td>0.360577</td>\n",
       "    </tr>\n",
       "    <tr>\n",
       "      <th>Hollywood Blvd</th>\n",
       "      <td>203</td>\n",
       "      <td>64</td>\n",
       "      <td>57.418719</td>\n",
       "      <td>0.315271</td>\n",
       "    </tr>\n",
       "    <tr>\n",
       "      <th>S Figueroa St</th>\n",
       "      <td>181</td>\n",
       "      <td>75</td>\n",
       "      <td>49.093923</td>\n",
       "      <td>0.414365</td>\n",
       "    </tr>\n",
       "    <tr>\n",
       "      <th>S Vermont Ave</th>\n",
       "      <td>177</td>\n",
       "      <td>71</td>\n",
       "      <td>45.525424</td>\n",
       "      <td>0.40113</td>\n",
       "    </tr>\n",
       "    <tr>\n",
       "      <th>W Olympic Blvd</th>\n",
       "      <td>163</td>\n",
       "      <td>56</td>\n",
       "      <td>53.226994</td>\n",
       "      <td>0.343558</td>\n",
       "    </tr>\n",
       "    <tr>\n",
       "      <th>Beverly Blvd</th>\n",
       "      <td>144</td>\n",
       "      <td>49</td>\n",
       "      <td>45.694444</td>\n",
       "      <td>0.340278</td>\n",
       "    </tr>\n",
       "    <tr>\n",
       "      <th>Melrose Ave</th>\n",
       "      <td>140</td>\n",
       "      <td>32</td>\n",
       "      <td>49.585714</td>\n",
       "      <td>0.228571</td>\n",
       "    </tr>\n",
       "    <tr>\n",
       "      <th>World Way</th>\n",
       "      <td>135</td>\n",
       "      <td>59</td>\n",
       "      <td>50.118519</td>\n",
       "      <td>0.437037</td>\n",
       "    </tr>\n",
       "    <tr>\n",
       "      <th>Wilshire Blvd Ste</th>\n",
       "      <td>118</td>\n",
       "      <td>53</td>\n",
       "      <td>46.584746</td>\n",
       "      <td>0.449153</td>\n",
       "    </tr>\n",
       "    <tr>\n",
       "      <th>W 8th St</th>\n",
       "      <td>107</td>\n",
       "      <td>30</td>\n",
       "      <td>45.420561</td>\n",
       "      <td>0.280374</td>\n",
       "    </tr>\n",
       "  </tbody>\n",
       "</table>\n",
       "</div>"
      ],
      "text/plain": [
       "                   object_name chain      seats chain_ratio\n",
       "street                                                     \n",
       "W Sunset Blvd              322   116  50.422360    0.360248\n",
       "W Pico Blvd                314   100  40.197452    0.318471\n",
       "E St                       282    86  35.163121    0.304965\n",
       "Wilshire Blvd              242    84  54.913223    0.347107\n",
       "W St                       216    73  41.365741    0.337963\n",
       "W 6th St                   214    72  40.602804    0.336449\n",
       "Santa Monica Blvd          210    81  35.200000    0.385714\n",
       "S Western Ave              208    75  42.024038    0.360577\n",
       "Hollywood Blvd             203    64  57.418719    0.315271\n",
       "S Figueroa St              181    75  49.093923    0.414365\n",
       "S Vermont Ave              177    71  45.525424     0.40113\n",
       "W Olympic Blvd             163    56  53.226994    0.343558\n",
       "Beverly Blvd               144    49  45.694444    0.340278\n",
       "Melrose Ave                140    32  49.585714    0.228571\n",
       "World Way                  135    59  50.118519    0.437037\n",
       "Wilshire Blvd Ste          118    53  46.584746    0.449153\n",
       "W 8th St                   107    30  45.420561    0.280374"
      ]
     },
     "execution_count": 42,
     "metadata": {},
     "output_type": "execute_result"
    }
   ],
   "source": [
    "streets = data_raw.groupby('street').agg(\n",
    "    {'object_name':'count', 'chain': 'sum', 'seats':'mean'}).sort_values('object_name', ascending = False)\n",
    "streets['chain_ratio'] = streets['chain'] / streets['object_name']\n",
    "streets.query('object_name > 100')"
   ]
  },
  {
   "cell_type": "code",
   "execution_count": 43,
   "id": "26cd7eb2",
   "metadata": {},
   "outputs": [
    {
     "data": {
      "text/plain": [
       "object_name    239.20\n",
       "chain           82.60\n",
       "seats           44.64\n",
       "chain_ratio      0.35\n",
       "dtype: float64"
      ]
     },
     "execution_count": 43,
     "metadata": {},
     "output_type": "execute_result"
    }
   ],
   "source": [
    "streets.head(10).mean().round(2)"
   ]
  },
  {
   "cell_type": "code",
   "execution_count": 44,
   "id": "2f7c1eb5",
   "metadata": {},
   "outputs": [
    {
     "data": {
      "image/png": "[encoded data removed]",
      "text/plain": [
       "<Figure size 864x432 with 1 Axes>"
      ]
     },
     "metadata": {},
     "output_type": "display_data"
    }
   ],
   "source": [
    "# check establishments type ratio on most popular streets:\n",
    "data_top10 = data_raw.query('street in @toptenstreets.index')\n",
    "\n",
    "compare_establishments_ratio = pd.concat([data_raw.object_type.value_counts(normalize = True),\n",
    "                                         data_top10.object_type.value_counts(normalize = True)], axis = 1)\n",
    "\n",
    "compare_establishments_ratio.plot(kind = 'bar', figsize = (12,6), rot = 0, fontsize = 14)\n",
    "plt.legend(['All streets', 'Popular streets'], title = 'Located at:', fontsize = 12)\n",
    "plt.title('Establishment ratio on most popular streets compared to all the streets', fontsize = 16)\n",
    "plt.ylabel('Ratio', fontsize = 14)\n",
    "plt.xlabel('Establishment type', fontsize = 12)\n",
    "plt.show()"
   ]
  },
  {
   "cell_type": "markdown",
   "id": "a195fe29",
   "metadata": {},
   "source": [
    "#### <font color = 'blue'>Notes:</font>\n",
    "\n",
    "* W Sunset Blvd and W Pico Blvd have the largest amount of restaurants (322 and 314).\n",
    "* There are 651 streets with only one restaurant.\n",
    "* Streets with many establishments have 239 establishments on the average, with most of them being in the 'small' (up to 50 seats) category. Roughly 1/3 of establishments on those streets belong to chains, which is close to overall chain-nonchain ratio.\n",
    "\n",
    " [Return to table of contents ^^^](#Table-of-Contents)"
   ]
  },
  {
   "cell_type": "markdown",
   "id": "f32fde71",
   "metadata": {},
   "source": [
    "# Step 3\n",
    "## Market research on robot-run restaurants in LA: summary"
   ]
  },
  {
   "cell_type": "markdown",
   "id": "b9337a51",
   "metadata": {},
   "source": [
    "In this project I analyzed open-source data on robot-run establishments in LA in order to assess current market condition. This research doesn't contain any info on profitability of such establishments, but provides more of overall picture about current trends and preferences.<br>\n",
    "<br>\n",
    "\n",
    "#### Categories I worked with:\n",
    "Already at the first steps, while preprocessing the data and examining seats histogram, it became pretty obvious that most of the robot-run establishments are divided into three major size categories: \n",
    "* Small establishments (up to 50 seats)\n",
    "* Medium establishments (up to 150 seats)\n",
    "* Large establishments (151 seats and higher)<br>\n",
    "<br>\n",
    "Also the establishment types are sorted by following categories:<br>\n",
    "\n",
    "* Bakery\n",
    "* Bar\n",
    "* Cafe\n",
    "* Fast food\n",
    "* Pizza\n",
    "* Restaurant<br>\n",
    "<br>\n",
    "Later, while grouping by chain and examining number of establishments per chain, I also sorted the chains:<br>\n",
    "\n",
    "* Small (up to 5 establishments)\n",
    "* Medium (up to 15 establishments)\n",
    "* Large (16 establishments and more)"
   ]
  },
  {
   "cell_type": "markdown",
   "id": "f4d76c3b",
   "metadata": {},
   "source": [
    "#### Overall trends and tendencies:\n",
    "\n",
    "* Most popular kind of establishment is restaurant (75.2%), with fast-food establishment following them (11%).\n",
    "* 61.9% of establishments belong to chains. Most of the chains though (75% of them) have only 1 establishment in LA.\n",
    "* Restaurants and bars are mostly non-chain (around 70%), while all the bakeries are exclusively belonging to chains.\n",
    "* Most of the chains are small (up to 5 establishments) and running small restaurants (up to 50 seats).<br> In chains with more than 1 establishment, the average number of establishments per chain is only 4. \n",
    "* If we look at the average number of seats per establishment type, the restaurants are largest (with average of 50), and the bars are second largest (with average of 45 seats). Bakeries are the smallest and have around 20 seats on the average.\n",
    "* Two most popular streets are W Sunset Blvd and W Pico Blvd, which have 322 and 314 establishments relatively.\n",
    "* On most popular streets the trend remains the same: most of the establishments are small (up to 50 seats), and roughly 1/3 of them belong to chains.\n",
    "* Popular streets can also be characterized by slightly more restaurants and pizzas, and by lower number of fast food establishments."
   ]
  },
  {
   "cell_type": "markdown",
   "id": "c8f3ce55",
   "metadata": {},
   "source": [
    "#### Conclusion:\n",
    "\n",
    "The most popular robot-run establishments are restaurants, with the fast-food in the second place. It looks like popular streets have slightly less fast-food establishments and it may be a good choice to go with fast food.<br>\n",
    "There are only 1/3 of chain establishments in LA, with most of them having . If we choose restaurant, it will be unlikely to develop a chain - only 1/4 of those are chains. But if we prefer go with fast food, the possibilites look much more positive, since more than half of those belong to chains."
   ]
  },
  {
   "cell_type": "markdown",
   "id": "9123bef2",
   "metadata": {},
   "source": [
    "## [Presentation](https://drive.google.com/file/d/1d63as8N667hHCVMBUKcSkqiLOD4kyV4F/view?usp=sharing)"
   ]
  }
 ],
 "metadata": {
  "ExecuteTimeLog": [
   {
    "duration": 1254,
    "start_time": "2022-03-12T21:18:19.107Z"
   },
   {
    "duration": 195,
    "start_time": "2022-03-12T21:18:20.363Z"
   },
   {
    "duration": 12,
    "start_time": "2022-03-12T21:18:20.563Z"
   },
   {
    "duration": 10,
    "start_time": "2022-03-12T21:18:20.577Z"
   },
   {
    "duration": 187,
    "start_time": "2022-03-12T21:18:20.588Z"
   },
   {
    "duration": 8,
    "start_time": "2022-03-12T21:18:20.777Z"
   },
   {
    "duration": 34,
    "start_time": "2022-03-12T21:18:20.787Z"
   },
   {
    "duration": 18,
    "start_time": "2022-03-12T21:18:20.823Z"
   },
   {
    "duration": 5,
    "start_time": "2022-03-12T21:18:20.843Z"
   },
   {
    "duration": 69,
    "start_time": "2022-03-12T21:18:20.850Z"
   },
   {
    "duration": 4,
    "start_time": "2022-03-12T21:18:20.921Z"
   },
   {
    "duration": 12,
    "start_time": "2022-03-12T21:18:20.927Z"
   },
   {
    "duration": 38,
    "start_time": "2022-03-12T21:18:20.941Z"
   },
   {
    "duration": 8,
    "start_time": "2022-03-12T21:18:20.981Z"
   },
   {
    "duration": 345,
    "start_time": "2022-03-12T21:18:20.990Z"
   },
   {
    "duration": 166,
    "start_time": "2022-03-12T21:18:21.337Z"
   },
   {
    "duration": 10,
    "start_time": "2022-03-12T21:18:21.505Z"
   },
   {
    "duration": 168,
    "start_time": "2022-03-12T21:18:21.517Z"
   },
   {
    "duration": 145,
    "start_time": "2022-03-12T21:18:21.687Z"
   },
   {
    "duration": 53,
    "start_time": "2022-03-12T21:18:21.835Z"
   },
   {
    "duration": 260,
    "start_time": "2022-03-12T21:18:21.891Z"
   },
   {
    "duration": 26,
    "start_time": "2022-03-12T21:18:22.154Z"
   },
   {
    "duration": 4,
    "start_time": "2022-03-12T21:18:22.182Z"
   },
   {
    "duration": 20,
    "start_time": "2022-03-12T21:18:22.188Z"
   },
   {
    "duration": 26,
    "start_time": "2022-03-12T21:18:22.210Z"
   },
   {
    "duration": 751,
    "start_time": "2022-03-12T21:18:22.238Z"
   },
   {
    "duration": 11,
    "start_time": "2022-03-12T21:18:22.991Z"
   },
   {
    "duration": 9,
    "start_time": "2022-03-12T21:18:23.004Z"
   },
   {
    "duration": 281,
    "start_time": "2022-03-12T21:18:23.015Z"
   },
   {
    "duration": 5,
    "start_time": "2022-03-12T21:18:23.298Z"
   },
   {
    "duration": 19,
    "start_time": "2022-03-12T21:18:23.305Z"
   },
   {
    "duration": 21,
    "start_time": "2022-03-12T21:18:23.326Z"
   },
   {
    "duration": 49,
    "start_time": "2022-03-12T21:18:23.350Z"
   },
   {
    "duration": 245,
    "start_time": "2022-03-12T21:18:23.402Z"
   },
   {
    "duration": 762,
    "start_time": "2022-03-12T21:18:23.649Z"
   },
   {
    "duration": 27,
    "start_time": "2022-03-12T21:18:24.413Z"
   },
   {
    "duration": 12,
    "start_time": "2022-03-12T21:18:24.442Z"
   },
   {
    "duration": 285,
    "start_time": "2022-03-12T21:18:24.456Z"
   },
   {
    "duration": 10,
    "start_time": "2022-03-12T21:18:24.743Z"
   },
   {
    "duration": 392,
    "start_time": "2022-03-12T21:18:24.754Z"
   },
   {
    "duration": 475,
    "start_time": "2022-03-12T21:18:25.148Z"
   },
   {
    "duration": -1226,
    "start_time": "2022-03-12T21:18:26.851Z"
   },
   {
    "duration": -1226,
    "start_time": "2022-03-12T21:18:26.852Z"
   },
   {
    "duration": -1235,
    "start_time": "2022-03-12T21:18:26.862Z"
   },
   {
    "duration": 198,
    "start_time": "2022-03-12T21:54:45.642Z"
   },
   {
    "duration": 6,
    "start_time": "2022-03-12T21:54:46.325Z"
   },
   {
    "duration": 349,
    "start_time": "2022-03-12T21:54:46.935Z"
   },
   {
    "duration": 237,
    "start_time": "2022-03-13T07:31:00.849Z"
   },
   {
    "duration": 1161,
    "start_time": "2022-03-13T07:31:11.144Z"
   },
   {
    "duration": 246,
    "start_time": "2022-03-13T07:31:12.307Z"
   },
   {
    "duration": 17,
    "start_time": "2022-03-13T07:31:12.556Z"
   },
   {
    "duration": 8,
    "start_time": "2022-03-13T07:31:12.734Z"
   },
   {
    "duration": 173,
    "start_time": "2022-03-13T07:31:12.973Z"
   },
   {
    "duration": 7,
    "start_time": "2022-03-13T07:31:13.245Z"
   },
   {
    "duration": 35,
    "start_time": "2022-03-13T07:31:13.513Z"
   },
   {
    "duration": 16,
    "start_time": "2022-03-13T07:31:13.846Z"
   },
   {
    "duration": 5,
    "start_time": "2022-03-13T07:31:14.206Z"
   },
   {
    "duration": 38,
    "start_time": "2022-03-13T07:31:14.544Z"
   },
   {
    "duration": 4,
    "start_time": "2022-03-13T07:31:14.880Z"
   },
   {
    "duration": 7,
    "start_time": "2022-03-13T07:31:15.202Z"
   },
   {
    "duration": 11,
    "start_time": "2022-03-13T07:31:15.510Z"
   },
   {
    "duration": 15,
    "start_time": "2022-03-13T07:31:15.826Z"
   },
   {
    "duration": 286,
    "start_time": "2022-03-13T07:31:16.116Z"
   },
   {
    "duration": 146,
    "start_time": "2022-03-13T07:31:16.414Z"
   },
   {
    "duration": 10,
    "start_time": "2022-03-13T07:31:16.717Z"
   },
   {
    "duration": 154,
    "start_time": "2022-03-13T07:31:18.095Z"
   },
   {
    "duration": 118,
    "start_time": "2022-03-13T07:31:19.192Z"
   },
   {
    "duration": 37,
    "start_time": "2022-03-13T07:31:20.047Z"
   },
   {
    "duration": 217,
    "start_time": "2022-03-13T07:31:20.294Z"
   },
   {
    "duration": 20,
    "start_time": "2022-03-13T07:31:21.912Z"
   },
   {
    "duration": 4,
    "start_time": "2022-03-13T07:31:22.314Z"
   },
   {
    "duration": 14,
    "start_time": "2022-03-13T07:31:22.778Z"
   },
   {
    "duration": 21,
    "start_time": "2022-03-13T07:31:23.198Z"
   },
   {
    "duration": 610,
    "start_time": "2022-03-13T07:31:23.690Z"
   },
   {
    "duration": 9,
    "start_time": "2022-03-13T07:31:25.452Z"
   },
   {
    "duration": 7,
    "start_time": "2022-03-13T07:31:26.346Z"
   },
   {
    "duration": 219,
    "start_time": "2022-03-13T07:31:27.693Z"
   },
   {
    "duration": 3,
    "start_time": "2022-03-13T07:31:28.384Z"
   },
   {
    "duration": 13,
    "start_time": "2022-03-13T07:31:29.191Z"
   },
   {
    "duration": 24,
    "start_time": "2022-03-13T07:31:29.935Z"
   },
   {
    "duration": 21,
    "start_time": "2022-03-13T07:31:30.682Z"
   },
   {
    "duration": 211,
    "start_time": "2022-03-13T07:31:31.498Z"
   },
   {
    "duration": 666,
    "start_time": "2022-03-13T07:31:34.508Z"
   },
   {
    "duration": 23,
    "start_time": "2022-03-13T07:31:36.399Z"
   },
   {
    "duration": 9,
    "start_time": "2022-03-13T07:31:38.744Z"
   },
   {
    "duration": 249,
    "start_time": "2022-03-13T07:31:39.316Z"
   },
   {
    "duration": 11,
    "start_time": "2022-03-13T07:31:41.012Z"
   },
   {
    "duration": 233,
    "start_time": "2022-03-13T07:31:43.218Z"
   },
   {
    "duration": 339,
    "start_time": "2022-03-13T07:31:45.015Z"
   },
   {
    "duration": 199,
    "start_time": "2022-03-13T07:32:17.873Z"
   },
   {
    "duration": 196,
    "start_time": "2022-03-13T07:32:25.114Z"
   },
   {
    "duration": 188,
    "start_time": "2022-03-13T07:38:07.536Z"
   },
   {
    "duration": 3763,
    "start_time": "2022-03-13T19:53:34.870Z"
   },
   {
    "duration": 262,
    "start_time": "2022-03-13T19:53:45.160Z"
   },
   {
    "duration": 495,
    "start_time": "2022-03-13T19:55:42.524Z"
   },
   {
    "duration": 472,
    "start_time": "2022-03-13T19:55:42.549Z"
   },
   {
    "duration": 223,
    "start_time": "2022-03-13T19:55:43.175Z"
   },
   {
    "duration": 430,
    "start_time": "2022-03-13T19:55:43.507Z"
   },
   {
    "duration": 598,
    "start_time": "2022-03-13T19:55:43.341Z"
   },
   {
    "duration": 255,
    "start_time": "2022-03-13T19:55:44.295Z"
   },
   {
    "duration": 1178,
    "start_time": "2022-03-13T19:55:50.783Z"
   },
   {
    "duration": 1179,
    "start_time": "2022-03-13T19:56:18.970Z"
   },
   {
    "duration": 172,
    "start_time": "2022-03-13T19:56:22.518Z"
   },
   {
    "duration": 13,
    "start_time": "2022-03-13T19:56:23.785Z"
   },
   {
    "duration": 5,
    "start_time": "2022-03-13T19:56:24.476Z"
   },
   {
    "duration": 171,
    "start_time": "2022-03-13T19:56:25.266Z"
   },
   {
    "duration": 9,
    "start_time": "2022-03-13T19:56:26.581Z"
   },
   {
    "duration": 39,
    "start_time": "2022-03-13T19:56:27.185Z"
   },
   {
    "duration": 17,
    "start_time": "2022-03-13T19:56:27.665Z"
   },
   {
    "duration": 6,
    "start_time": "2022-03-13T19:56:28.576Z"
   },
   {
    "duration": 41,
    "start_time": "2022-03-13T19:56:29.357Z"
   },
   {
    "duration": 5,
    "start_time": "2022-03-13T19:56:30.054Z"
   },
   {
    "duration": 9,
    "start_time": "2022-03-13T19:56:30.523Z"
   },
   {
    "duration": 11,
    "start_time": "2022-03-13T19:56:30.993Z"
   },
   {
    "duration": 23,
    "start_time": "2022-03-13T19:56:31.471Z"
   },
   {
    "duration": 318,
    "start_time": "2022-03-13T19:56:31.920Z"
   },
   {
    "duration": 171,
    "start_time": "2022-03-13T19:56:32.949Z"
   },
   {
    "duration": 13,
    "start_time": "2022-03-13T19:56:33.742Z"
   },
   {
    "duration": 152,
    "start_time": "2022-03-13T19:56:36.538Z"
   },
   {
    "duration": 144,
    "start_time": "2022-03-13T19:56:39.298Z"
   },
   {
    "duration": 40,
    "start_time": "2022-03-13T19:56:41.760Z"
   },
   {
    "duration": 245,
    "start_time": "2022-03-13T19:56:42.478Z"
   },
   {
    "duration": 24,
    "start_time": "2022-03-13T19:56:45.371Z"
   },
   {
    "duration": 4,
    "start_time": "2022-03-13T19:56:45.950Z"
   },
   {
    "duration": 17,
    "start_time": "2022-03-13T19:56:46.610Z"
   },
   {
    "duration": 21,
    "start_time": "2022-03-13T19:56:47.146Z"
   },
   {
    "duration": 703,
    "start_time": "2022-03-13T19:56:47.706Z"
   },
   {
    "duration": 12,
    "start_time": "2022-03-13T19:56:48.412Z"
   },
   {
    "duration": 8,
    "start_time": "2022-03-13T19:56:49.226Z"
   },
   {
    "duration": 248,
    "start_time": "2022-03-13T19:56:50.936Z"
   },
   {
    "duration": 3,
    "start_time": "2022-03-13T19:56:51.414Z"
   },
   {
    "duration": 16,
    "start_time": "2022-03-13T19:56:51.851Z"
   },
   {
    "duration": 23,
    "start_time": "2022-03-13T19:56:52.262Z"
   },
   {
    "duration": 24,
    "start_time": "2022-03-13T19:56:52.636Z"
   },
   {
    "duration": 229,
    "start_time": "2022-03-13T19:56:53.310Z"
   },
   {
    "duration": 641,
    "start_time": "2022-03-13T19:56:56.273Z"
   },
   {
    "duration": 24,
    "start_time": "2022-03-13T19:56:58.942Z"
   },
   {
    "duration": 10,
    "start_time": "2022-03-13T19:57:00.989Z"
   },
   {
    "duration": 280,
    "start_time": "2022-03-13T19:57:02.559Z"
   },
   {
    "duration": 10,
    "start_time": "2022-03-13T19:57:05.711Z"
   },
   {
    "duration": 263,
    "start_time": "2022-03-13T19:57:07.877Z"
   },
   {
    "duration": 2496,
    "start_time": "2022-03-13T19:57:08.945Z"
   },
   {
    "duration": 4761,
    "start_time": "2022-03-13T19:57:11.444Z"
   },
   {
    "duration": 186,
    "start_time": "2022-03-13T19:57:20.077Z"
   },
   {
    "duration": 8,
    "start_time": "2022-03-13T19:57:20.748Z"
   },
   {
    "duration": 441,
    "start_time": "2022-03-13T19:57:21.260Z"
   },
   {
    "duration": 686,
    "start_time": "2022-03-13T20:10:10.341Z"
   },
   {
    "duration": 657,
    "start_time": "2022-03-13T20:10:49.394Z"
   },
   {
    "duration": 619,
    "start_time": "2022-03-13T20:11:02.638Z"
   },
   {
    "duration": 1124,
    "start_time": "2022-03-13T20:12:53.041Z"
   },
   {
    "duration": 176,
    "start_time": "2022-03-13T20:12:54.167Z"
   },
   {
    "duration": 13,
    "start_time": "2022-03-13T20:12:54.345Z"
   },
   {
    "duration": 8,
    "start_time": "2022-03-13T20:12:54.360Z"
   },
   {
    "duration": 188,
    "start_time": "2022-03-13T20:12:54.370Z"
   },
   {
    "duration": 8,
    "start_time": "2022-03-13T20:12:54.560Z"
   },
   {
    "duration": 40,
    "start_time": "2022-03-13T20:12:54.570Z"
   },
   {
    "duration": 17,
    "start_time": "2022-03-13T20:12:54.613Z"
   },
   {
    "duration": 5,
    "start_time": "2022-03-13T20:12:54.632Z"
   },
   {
    "duration": 46,
    "start_time": "2022-03-13T20:12:54.639Z"
   },
   {
    "duration": 6,
    "start_time": "2022-03-13T20:12:54.701Z"
   },
   {
    "duration": 16,
    "start_time": "2022-03-13T20:12:54.709Z"
   },
   {
    "duration": 12,
    "start_time": "2022-03-13T20:12:54.727Z"
   },
   {
    "duration": 10,
    "start_time": "2022-03-13T20:12:54.741Z"
   },
   {
    "duration": 336,
    "start_time": "2022-03-13T20:12:54.753Z"
   },
   {
    "duration": 178,
    "start_time": "2022-03-13T20:12:55.091Z"
   },
   {
    "duration": 13,
    "start_time": "2022-03-13T20:12:55.272Z"
   },
   {
    "duration": 167,
    "start_time": "2022-03-13T20:12:55.302Z"
   },
   {
    "duration": 149,
    "start_time": "2022-03-13T20:12:55.471Z"
   },
   {
    "duration": 39,
    "start_time": "2022-03-13T20:12:55.622Z"
   },
   {
    "duration": 263,
    "start_time": "2022-03-13T20:12:55.663Z"
   },
   {
    "duration": 21,
    "start_time": "2022-03-13T20:12:55.928Z"
   },
   {
    "duration": 5,
    "start_time": "2022-03-13T20:12:55.953Z"
   },
   {
    "duration": 41,
    "start_time": "2022-03-13T20:12:55.961Z"
   },
   {
    "duration": 36,
    "start_time": "2022-03-13T20:12:56.005Z"
   },
   {
    "duration": 687,
    "start_time": "2022-03-13T20:12:56.043Z"
   },
   {
    "duration": 10,
    "start_time": "2022-03-13T20:12:56.732Z"
   },
   {
    "duration": 13,
    "start_time": "2022-03-13T20:12:56.744Z"
   },
   {
    "duration": 271,
    "start_time": "2022-03-13T20:12:56.759Z"
   },
   {
    "duration": 3,
    "start_time": "2022-03-13T20:12:57.032Z"
   },
   {
    "duration": 33,
    "start_time": "2022-03-13T20:12:57.037Z"
   },
   {
    "duration": 40,
    "start_time": "2022-03-13T20:12:57.073Z"
   },
   {
    "duration": 22,
    "start_time": "2022-03-13T20:12:57.115Z"
   },
   {
    "duration": 245,
    "start_time": "2022-03-13T20:12:57.139Z"
   },
   {
    "duration": 677,
    "start_time": "2022-03-13T20:12:57.386Z"
   },
   {
    "duration": 47,
    "start_time": "2022-03-13T20:12:58.065Z"
   },
   {
    "duration": 20,
    "start_time": "2022-03-13T20:12:58.114Z"
   },
   {
    "duration": 265,
    "start_time": "2022-03-13T20:12:58.137Z"
   },
   {
    "duration": 12,
    "start_time": "2022-03-13T20:12:58.405Z"
   },
   {
    "duration": 617,
    "start_time": "2022-03-13T20:12:58.420Z"
   },
   {
    "duration": 2570,
    "start_time": "2022-03-13T20:12:59.039Z"
   },
   {
    "duration": 4725,
    "start_time": "2022-03-13T20:13:01.611Z"
   },
   {
    "duration": 191,
    "start_time": "2022-03-13T20:13:06.338Z"
   },
   {
    "duration": 7,
    "start_time": "2022-03-13T20:13:06.531Z"
   },
   {
    "duration": 518,
    "start_time": "2022-03-13T20:13:06.541Z"
   },
   {
    "duration": 1474,
    "start_time": "2022-03-13T20:31:15.829Z"
   },
   {
    "duration": 135,
    "start_time": "2022-03-13T20:31:17.306Z"
   },
   {
    "duration": 17,
    "start_time": "2022-03-13T20:31:17.444Z"
   },
   {
    "duration": 9,
    "start_time": "2022-03-13T20:31:17.464Z"
   },
   {
    "duration": 145,
    "start_time": "2022-03-13T20:31:17.475Z"
   },
   {
    "duration": 10,
    "start_time": "2022-03-13T20:31:17.622Z"
   },
   {
    "duration": 52,
    "start_time": "2022-03-13T20:31:17.634Z"
   },
   {
    "duration": 20,
    "start_time": "2022-03-13T20:31:17.689Z"
   },
   {
    "duration": 6,
    "start_time": "2022-03-13T20:31:17.712Z"
   },
   {
    "duration": 76,
    "start_time": "2022-03-13T20:31:17.720Z"
   },
   {
    "duration": 5,
    "start_time": "2022-03-13T20:31:17.799Z"
   },
   {
    "duration": 31,
    "start_time": "2022-03-13T20:31:17.806Z"
   },
   {
    "duration": 12,
    "start_time": "2022-03-13T20:31:17.840Z"
   },
   {
    "duration": 11,
    "start_time": "2022-03-13T20:31:17.855Z"
   },
   {
    "duration": 468,
    "start_time": "2022-03-13T20:31:17.868Z"
   },
   {
    "duration": 220,
    "start_time": "2022-03-13T20:31:18.338Z"
   },
   {
    "duration": 13,
    "start_time": "2022-03-13T20:31:18.560Z"
   },
   {
    "duration": 224,
    "start_time": "2022-03-13T20:31:18.576Z"
   },
   {
    "duration": 185,
    "start_time": "2022-03-13T20:31:18.803Z"
   },
   {
    "duration": 61,
    "start_time": "2022-03-13T20:31:18.991Z"
   },
   {
    "duration": 353,
    "start_time": "2022-03-13T20:31:19.054Z"
   },
   {
    "duration": 42,
    "start_time": "2022-03-13T20:31:19.409Z"
   },
   {
    "duration": 6,
    "start_time": "2022-03-13T20:31:19.456Z"
   },
   {
    "duration": 27,
    "start_time": "2022-03-13T20:31:19.465Z"
   },
   {
    "duration": 45,
    "start_time": "2022-03-13T20:31:19.494Z"
   },
   {
    "duration": 1076,
    "start_time": "2022-03-13T20:31:19.541Z"
   },
   {
    "duration": 22,
    "start_time": "2022-03-13T20:31:20.620Z"
   },
   {
    "duration": 10,
    "start_time": "2022-03-13T20:31:20.644Z"
   },
   {
    "duration": 364,
    "start_time": "2022-03-13T20:31:20.656Z"
   },
   {
    "duration": 4,
    "start_time": "2022-03-13T20:31:21.022Z"
   },
   {
    "duration": 29,
    "start_time": "2022-03-13T20:31:21.028Z"
   },
   {
    "duration": 30,
    "start_time": "2022-03-13T20:31:21.059Z"
   },
   {
    "duration": 54,
    "start_time": "2022-03-13T20:31:21.092Z"
   },
   {
    "duration": 342,
    "start_time": "2022-03-13T20:31:21.148Z"
   },
   {
    "duration": 1038,
    "start_time": "2022-03-13T20:31:21.492Z"
   },
   {
    "duration": 39,
    "start_time": "2022-03-13T20:31:22.537Z"
   },
   {
    "duration": 13,
    "start_time": "2022-03-13T20:31:22.578Z"
   },
   {
    "duration": 380,
    "start_time": "2022-03-13T20:31:22.593Z"
   },
   {
    "duration": 14,
    "start_time": "2022-03-13T20:31:22.975Z"
   },
   {
    "duration": 674,
    "start_time": "2022-03-13T20:31:22.991Z"
   },
   {
    "duration": 106033,
    "start_time": "2022-03-13T20:31:23.668Z"
   },
   {
    "duration": 306,
    "start_time": "2022-03-13T20:33:09.704Z"
   },
   {
    "duration": 1418,
    "start_time": "2022-03-13T20:33:08.594Z"
   },
   {
    "duration": 1418,
    "start_time": "2022-03-13T20:33:08.596Z"
   },
   {
    "duration": 1417,
    "start_time": "2022-03-13T20:33:08.598Z"
   },
   {
    "duration": 1269,
    "start_time": "2022-03-14T14:53:03.550Z"
   },
   {
    "duration": 176,
    "start_time": "2022-03-14T14:53:04.821Z"
   },
   {
    "duration": 14,
    "start_time": "2022-03-14T14:53:05.000Z"
   },
   {
    "duration": 5,
    "start_time": "2022-03-14T14:53:05.017Z"
   },
   {
    "duration": 233,
    "start_time": "2022-03-14T14:53:05.024Z"
   },
   {
    "duration": 10,
    "start_time": "2022-03-14T14:53:05.259Z"
   },
   {
    "duration": 35,
    "start_time": "2022-03-14T14:53:05.271Z"
   },
   {
    "duration": 17,
    "start_time": "2022-03-14T14:53:05.309Z"
   },
   {
    "duration": 5,
    "start_time": "2022-03-14T14:53:05.329Z"
   },
   {
    "duration": 73,
    "start_time": "2022-03-14T14:53:05.336Z"
   },
   {
    "duration": 5,
    "start_time": "2022-03-14T14:53:05.411Z"
   },
   {
    "duration": 33,
    "start_time": "2022-03-14T14:53:05.418Z"
   },
   {
    "duration": 30,
    "start_time": "2022-03-14T14:53:05.454Z"
   },
   {
    "duration": 12,
    "start_time": "2022-03-14T14:53:05.486Z"
   },
   {
    "duration": 320,
    "start_time": "2022-03-14T14:53:05.500Z"
   },
   {
    "duration": 179,
    "start_time": "2022-03-14T14:53:05.822Z"
   },
   {
    "duration": 13,
    "start_time": "2022-03-14T14:53:06.003Z"
   },
   {
    "duration": 177,
    "start_time": "2022-03-14T14:53:06.019Z"
   },
   {
    "duration": 147,
    "start_time": "2022-03-14T14:53:06.202Z"
   },
   {
    "duration": 51,
    "start_time": "2022-03-14T14:53:06.351Z"
   },
   {
    "duration": 260,
    "start_time": "2022-03-14T14:53:06.405Z"
   },
   {
    "duration": 36,
    "start_time": "2022-03-14T14:53:06.667Z"
   },
   {
    "duration": 5,
    "start_time": "2022-03-14T14:53:06.707Z"
   },
   {
    "duration": 41,
    "start_time": "2022-03-14T14:53:06.714Z"
   },
   {
    "duration": 67,
    "start_time": "2022-03-14T14:53:06.758Z"
   },
   {
    "duration": 719,
    "start_time": "2022-03-14T14:53:06.827Z"
   },
   {
    "duration": 9,
    "start_time": "2022-03-14T14:53:07.548Z"
   },
   {
    "duration": 19,
    "start_time": "2022-03-14T14:53:07.559Z"
   },
   {
    "duration": 383,
    "start_time": "2022-03-14T14:53:07.581Z"
   },
   {
    "duration": 4,
    "start_time": "2022-03-14T14:53:07.967Z"
   },
   {
    "duration": 36,
    "start_time": "2022-03-14T14:53:07.973Z"
   },
   {
    "duration": 33,
    "start_time": "2022-03-14T14:53:08.011Z"
   },
   {
    "duration": 32,
    "start_time": "2022-03-14T14:53:08.046Z"
   },
   {
    "duration": 461,
    "start_time": "2022-03-14T14:53:08.080Z"
   },
   {
    "duration": 1115,
    "start_time": "2022-03-14T14:53:08.544Z"
   },
   {
    "duration": 50,
    "start_time": "2022-03-14T14:53:09.661Z"
   },
   {
    "duration": 12,
    "start_time": "2022-03-14T14:53:09.714Z"
   },
   {
    "duration": 499,
    "start_time": "2022-03-14T14:53:09.728Z"
   },
   {
    "duration": 14,
    "start_time": "2022-03-14T14:53:10.230Z"
   },
   {
    "duration": 704,
    "start_time": "2022-03-14T14:53:10.246Z"
   },
   {
    "duration": 3880,
    "start_time": "2022-03-14T14:53:10.953Z"
   },
   {
    "duration": 374,
    "start_time": "2022-03-14T14:53:14.836Z"
   },
   {
    "duration": -274,
    "start_time": "2022-03-14T14:53:15.486Z"
   },
   {
    "duration": -277,
    "start_time": "2022-03-14T14:53:15.491Z"
   },
   {
    "duration": -277,
    "start_time": "2022-03-14T14:53:15.492Z"
   },
   {
    "duration": 1259,
    "start_time": "2022-03-14T15:10:54.208Z"
   },
   {
    "duration": 172,
    "start_time": "2022-03-14T15:10:55.469Z"
   },
   {
    "duration": 17,
    "start_time": "2022-03-14T15:10:55.644Z"
   },
   {
    "duration": 5,
    "start_time": "2022-03-14T15:10:55.663Z"
   },
   {
    "duration": 191,
    "start_time": "2022-03-14T15:10:55.670Z"
   },
   {
    "duration": 9,
    "start_time": "2022-03-14T15:10:55.863Z"
   },
   {
    "duration": 38,
    "start_time": "2022-03-14T15:10:55.874Z"
   },
   {
    "duration": 15,
    "start_time": "2022-03-14T15:10:55.915Z"
   },
   {
    "duration": 5,
    "start_time": "2022-03-14T15:10:55.932Z"
   },
   {
    "duration": 45,
    "start_time": "2022-03-14T15:10:55.939Z"
   },
   {
    "duration": 18,
    "start_time": "2022-03-14T15:10:55.986Z"
   },
   {
    "duration": 27,
    "start_time": "2022-03-14T15:10:56.006Z"
   },
   {
    "duration": 20,
    "start_time": "2022-03-14T15:10:56.034Z"
   },
   {
    "duration": 13,
    "start_time": "2022-03-14T15:10:56.055Z"
   },
   {
    "duration": 297,
    "start_time": "2022-03-14T15:10:56.069Z"
   },
   {
    "duration": 160,
    "start_time": "2022-03-14T15:10:56.368Z"
   },
   {
    "duration": 10,
    "start_time": "2022-03-14T15:10:56.530Z"
   },
   {
    "duration": 163,
    "start_time": "2022-03-14T15:10:56.542Z"
   },
   {
    "duration": 134,
    "start_time": "2022-03-14T15:10:56.707Z"
   },
   {
    "duration": 39,
    "start_time": "2022-03-14T15:10:56.843Z"
   },
   {
    "duration": 250,
    "start_time": "2022-03-14T15:10:56.884Z"
   },
   {
    "duration": 21,
    "start_time": "2022-03-14T15:10:57.137Z"
   },
   {
    "duration": 5,
    "start_time": "2022-03-14T15:10:57.161Z"
   },
   {
    "duration": 39,
    "start_time": "2022-03-14T15:10:57.168Z"
   },
   {
    "duration": 24,
    "start_time": "2022-03-14T15:10:57.209Z"
   },
   {
    "duration": 693,
    "start_time": "2022-03-14T15:10:57.235Z"
   },
   {
    "duration": 11,
    "start_time": "2022-03-14T15:10:57.929Z"
   },
   {
    "duration": 9,
    "start_time": "2022-03-14T15:10:57.942Z"
   },
   {
    "duration": 259,
    "start_time": "2022-03-14T15:10:57.953Z"
   },
   {
    "duration": 4,
    "start_time": "2022-03-14T15:10:58.214Z"
   },
   {
    "duration": 16,
    "start_time": "2022-03-14T15:10:58.220Z"
   },
   {
    "duration": 22,
    "start_time": "2022-03-14T15:10:58.238Z"
   },
   {
    "duration": 49,
    "start_time": "2022-03-14T15:10:58.262Z"
   },
   {
    "duration": 230,
    "start_time": "2022-03-14T15:10:58.313Z"
   },
   {
    "duration": 615,
    "start_time": "2022-03-14T15:10:58.545Z"
   },
   {
    "duration": 25,
    "start_time": "2022-03-14T15:10:59.162Z"
   },
   {
    "duration": 12,
    "start_time": "2022-03-14T15:10:59.202Z"
   },
   {
    "duration": 279,
    "start_time": "2022-03-14T15:10:59.216Z"
   },
   {
    "duration": 11,
    "start_time": "2022-03-14T15:10:59.502Z"
   },
   {
    "duration": 734,
    "start_time": "2022-03-14T15:10:59.515Z"
   },
   {
    "duration": 3043,
    "start_time": "2022-03-14T15:11:00.251Z"
   },
   {
    "duration": 4436,
    "start_time": "2022-03-14T15:11:03.297Z"
   },
   {
    "duration": 149,
    "start_time": "2022-03-14T15:11:07.735Z"
   },
   {
    "duration": 14,
    "start_time": "2022-03-14T15:11:07.886Z"
   },
   {
    "duration": 437,
    "start_time": "2022-03-14T15:11:07.902Z"
   }
  ],
  "kernelspec": {
   "display_name": "Python 3",
   "language": "python",
   "name": "python3"
  },
  "language_info": {
   "codemirror_mode": {
    "name": "ipython",
    "version": 3
   },
   "file_extension": ".py",
   "mimetype": "text/x-python",
   "name": "python",
   "nbconvert_exporter": "python",
   "pygments_lexer": "ipython3",
   "version": "3.8.8"
  },
  "toc": {
   "base_numbering": 1,
   "nav_menu": {},
   "number_sections": true,
   "sideBar": true,
   "skip_h1_title": true,
   "title_cell": "Table of Contents",
   "title_sidebar": "Contents",
   "toc_cell": false,
   "toc_position": {},
   "toc_section_display": true,
   "toc_window_display": false
  }
 },
 "nbformat": 4,
 "nbformat_minor": 5
}
